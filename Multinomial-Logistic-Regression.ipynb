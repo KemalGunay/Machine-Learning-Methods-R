{
 "cells": [
  {
   "cell_type": "markdown",
   "id": "b4c1ac36",
   "metadata": {
    "papermill": {
     "duration": 0.048685,
     "end_time": "2021-12-08T10:53:32.099649",
     "exception": false,
     "start_time": "2021-12-08T10:53:32.050964",
     "status": "completed"
    },
    "tags": []
   },
   "source": [
    "<font color = 'blue'>\n",
    "Content: \n",
    "\n",
    "1. [Multinomial Logistic Regression](#1)\n",
    "   * 1.1 [Data](#2)\n",
    "   * 1.2 [Data Partition](#3)\n",
    "   * 1.3 [Multinominal Logistic Regression](#4)\n",
    "\n",
    "1. [Model & Interpretation](#5)\n",
    "    * 2.1. [Two Tail Z-test p-value](#6)\n",
    "    * 2.2. [Second Model](#7)\n",
    "1. [Misclassification Error and Confusion Matrix](#8)\n",
    "    * 3.1. [Training Data](#9)\n",
    "    * 3.2. [Testing Data](#10)\n",
    "1. [Prediction and Model Assessment](#11)\n",
    "1. [References](#12)\n",
    "\n"
   ]
  },
  {
   "cell_type": "markdown",
   "id": "60ab92a0",
   "metadata": {
    "papermill": {
     "duration": 0.044093,
     "end_time": "2021-12-08T10:53:32.187305",
     "exception": false,
     "start_time": "2021-12-08T10:53:32.143212",
     "status": "completed"
    },
    "tags": []
   },
   "source": [
    "<a id = \"1\"></a><br>\n",
    "# 1. Multinomial Logistic Regression\n",
    "<a id = \"2\"></a><br>\n",
    "# 1.1. Data"
   ]
  },
  {
   "cell_type": "code",
   "execution_count": 1,
   "id": "07fd5822",
   "metadata": {
    "_execution_state": "idle",
    "_uuid": "051d70d956493feee0c6d64651c6a088724dca2a",
    "execution": {
     "iopub.execute_input": "2021-12-08T10:53:32.278074Z",
     "iopub.status.busy": "2021-12-08T10:53:32.276406Z",
     "iopub.status.idle": "2021-12-08T10:53:33.500827Z",
     "shell.execute_reply": "2021-12-08T10:53:33.499368Z"
    },
    "papermill": {
     "duration": 1.271598,
     "end_time": "2021-12-08T10:53:33.500999",
     "exception": false,
     "start_time": "2021-12-08T10:53:32.229401",
     "status": "completed"
    },
    "tags": []
   },
   "outputs": [
    {
     "name": "stderr",
     "output_type": "stream",
     "text": [
      "\u001b[1m\u001b[1mRows: \u001b[1m\u001b[22m\u001b[34m\u001b[34m2126\u001b[34m\u001b[39m \u001b[1m\u001b[1mColumns: \u001b[1m\u001b[22m\u001b[34m\u001b[34m22\u001b[34m\u001b[39m\n",
      "\n",
      "\u001b[36m──\u001b[39m \u001b[1m\u001b[1mColumn specification\u001b[1m\u001b[22m \u001b[36m────────────────────────────────────────────────────────\u001b[39m\n",
      "\u001b[1mDelimiter:\u001b[22m \",\"\n",
      "\u001b[32mdbl\u001b[39m (22): LB, AC, FM, UC, DL, DS, DP, ASTV, MSTV, ALTV, MLTV, Width, Min, Ma...\n",
      "\n",
      "\n",
      "\u001b[36mℹ\u001b[39m Use \u001b[30m\u001b[47m\u001b[30m\u001b[47m`spec()`\u001b[47m\u001b[30m\u001b[49m\u001b[39m to retrieve the full column specification for this data.\n",
      "\u001b[36mℹ\u001b[39m Specify the column types or set \u001b[30m\u001b[47m\u001b[30m\u001b[47m`show_col_types = FALSE`\u001b[47m\u001b[30m\u001b[49m\u001b[39m to quiet this message.\n",
      "\n"
     ]
    },
    {
     "data": {
      "text/html": [
       "<table class=\"dataframe\">\n",
       "<caption>A tibble: 6 × 22</caption>\n",
       "<thead>\n",
       "\t<tr><th scope=col>LB</th><th scope=col>AC</th><th scope=col>FM</th><th scope=col>UC</th><th scope=col>DL</th><th scope=col>DS</th><th scope=col>DP</th><th scope=col>ASTV</th><th scope=col>MSTV</th><th scope=col>ALTV</th><th scope=col>⋯</th><th scope=col>Min</th><th scope=col>Max</th><th scope=col>Nmax</th><th scope=col>Nzeros</th><th scope=col>Mode</th><th scope=col>Mean</th><th scope=col>Median</th><th scope=col>Variance</th><th scope=col>Tendency</th><th scope=col>NSP</th></tr>\n",
       "\t<tr><th scope=col>&lt;dbl&gt;</th><th scope=col>&lt;dbl&gt;</th><th scope=col>&lt;dbl&gt;</th><th scope=col>&lt;dbl&gt;</th><th scope=col>&lt;dbl&gt;</th><th scope=col>&lt;dbl&gt;</th><th scope=col>&lt;dbl&gt;</th><th scope=col>&lt;dbl&gt;</th><th scope=col>&lt;dbl&gt;</th><th scope=col>&lt;dbl&gt;</th><th scope=col>⋯</th><th scope=col>&lt;dbl&gt;</th><th scope=col>&lt;dbl&gt;</th><th scope=col>&lt;dbl&gt;</th><th scope=col>&lt;dbl&gt;</th><th scope=col>&lt;dbl&gt;</th><th scope=col>&lt;dbl&gt;</th><th scope=col>&lt;dbl&gt;</th><th scope=col>&lt;dbl&gt;</th><th scope=col>&lt;dbl&gt;</th><th scope=col>&lt;dbl&gt;</th></tr>\n",
       "</thead>\n",
       "<tbody>\n",
       "\t<tr><td>120</td><td>0.000000000</td><td>0</td><td>0.000000000</td><td>0.000000000</td><td>0</td><td>0.000000000</td><td>73</td><td>0.5</td><td>43</td><td>⋯</td><td>62</td><td>126</td><td> 2</td><td>0</td><td>120</td><td>137</td><td>121</td><td> 73</td><td>1</td><td>2</td></tr>\n",
       "\t<tr><td>132</td><td>0.006379585</td><td>0</td><td>0.006379585</td><td>0.003189793</td><td>0</td><td>0.000000000</td><td>17</td><td>2.1</td><td> 0</td><td>⋯</td><td>68</td><td>198</td><td> 6</td><td>1</td><td>141</td><td>136</td><td>140</td><td> 12</td><td>0</td><td>1</td></tr>\n",
       "\t<tr><td>133</td><td>0.003322259</td><td>0</td><td>0.008305648</td><td>0.003322259</td><td>0</td><td>0.000000000</td><td>16</td><td>2.1</td><td> 0</td><td>⋯</td><td>68</td><td>198</td><td> 5</td><td>1</td><td>141</td><td>135</td><td>138</td><td> 13</td><td>0</td><td>1</td></tr>\n",
       "\t<tr><td>134</td><td>0.002560819</td><td>0</td><td>0.007682458</td><td>0.002560819</td><td>0</td><td>0.000000000</td><td>16</td><td>2.4</td><td> 0</td><td>⋯</td><td>53</td><td>170</td><td>11</td><td>0</td><td>137</td><td>134</td><td>137</td><td> 13</td><td>1</td><td>1</td></tr>\n",
       "\t<tr><td>132</td><td>0.006514658</td><td>0</td><td>0.008143322</td><td>0.000000000</td><td>0</td><td>0.000000000</td><td>16</td><td>2.4</td><td> 0</td><td>⋯</td><td>53</td><td>170</td><td> 9</td><td>0</td><td>137</td><td>136</td><td>138</td><td> 11</td><td>1</td><td>1</td></tr>\n",
       "\t<tr><td>134</td><td>0.001049318</td><td>0</td><td>0.010493179</td><td>0.009443861</td><td>0</td><td>0.002098636</td><td>26</td><td>5.9</td><td> 0</td><td>⋯</td><td>50</td><td>200</td><td> 5</td><td>3</td><td> 76</td><td>107</td><td>107</td><td>170</td><td>0</td><td>3</td></tr>\n",
       "</tbody>\n",
       "</table>\n"
      ],
      "text/latex": [
       "A tibble: 6 × 22\n",
       "\\begin{tabular}{lllllllllllllllllllll}\n",
       " LB & AC & FM & UC & DL & DS & DP & ASTV & MSTV & ALTV & ⋯ & Min & Max & Nmax & Nzeros & Mode & Mean & Median & Variance & Tendency & NSP\\\\\n",
       " <dbl> & <dbl> & <dbl> & <dbl> & <dbl> & <dbl> & <dbl> & <dbl> & <dbl> & <dbl> & ⋯ & <dbl> & <dbl> & <dbl> & <dbl> & <dbl> & <dbl> & <dbl> & <dbl> & <dbl> & <dbl>\\\\\n",
       "\\hline\n",
       "\t 120 & 0.000000000 & 0 & 0.000000000 & 0.000000000 & 0 & 0.000000000 & 73 & 0.5 & 43 & ⋯ & 62 & 126 &  2 & 0 & 120 & 137 & 121 &  73 & 1 & 2\\\\\n",
       "\t 132 & 0.006379585 & 0 & 0.006379585 & 0.003189793 & 0 & 0.000000000 & 17 & 2.1 &  0 & ⋯ & 68 & 198 &  6 & 1 & 141 & 136 & 140 &  12 & 0 & 1\\\\\n",
       "\t 133 & 0.003322259 & 0 & 0.008305648 & 0.003322259 & 0 & 0.000000000 & 16 & 2.1 &  0 & ⋯ & 68 & 198 &  5 & 1 & 141 & 135 & 138 &  13 & 0 & 1\\\\\n",
       "\t 134 & 0.002560819 & 0 & 0.007682458 & 0.002560819 & 0 & 0.000000000 & 16 & 2.4 &  0 & ⋯ & 53 & 170 & 11 & 0 & 137 & 134 & 137 &  13 & 1 & 1\\\\\n",
       "\t 132 & 0.006514658 & 0 & 0.008143322 & 0.000000000 & 0 & 0.000000000 & 16 & 2.4 &  0 & ⋯ & 53 & 170 &  9 & 0 & 137 & 136 & 138 &  11 & 1 & 1\\\\\n",
       "\t 134 & 0.001049318 & 0 & 0.010493179 & 0.009443861 & 0 & 0.002098636 & 26 & 5.9 &  0 & ⋯ & 50 & 200 &  5 & 3 &  76 & 107 & 107 & 170 & 0 & 3\\\\\n",
       "\\end{tabular}\n"
      ],
      "text/markdown": [
       "\n",
       "A tibble: 6 × 22\n",
       "\n",
       "| LB &lt;dbl&gt; | AC &lt;dbl&gt; | FM &lt;dbl&gt; | UC &lt;dbl&gt; | DL &lt;dbl&gt; | DS &lt;dbl&gt; | DP &lt;dbl&gt; | ASTV &lt;dbl&gt; | MSTV &lt;dbl&gt; | ALTV &lt;dbl&gt; | ⋯ ⋯ | Min &lt;dbl&gt; | Max &lt;dbl&gt; | Nmax &lt;dbl&gt; | Nzeros &lt;dbl&gt; | Mode &lt;dbl&gt; | Mean &lt;dbl&gt; | Median &lt;dbl&gt; | Variance &lt;dbl&gt; | Tendency &lt;dbl&gt; | NSP &lt;dbl&gt; |\n",
       "|---|---|---|---|---|---|---|---|---|---|---|---|---|---|---|---|---|---|---|---|---|\n",
       "| 120 | 0.000000000 | 0 | 0.000000000 | 0.000000000 | 0 | 0.000000000 | 73 | 0.5 | 43 | ⋯ | 62 | 126 |  2 | 0 | 120 | 137 | 121 |  73 | 1 | 2 |\n",
       "| 132 | 0.006379585 | 0 | 0.006379585 | 0.003189793 | 0 | 0.000000000 | 17 | 2.1 |  0 | ⋯ | 68 | 198 |  6 | 1 | 141 | 136 | 140 |  12 | 0 | 1 |\n",
       "| 133 | 0.003322259 | 0 | 0.008305648 | 0.003322259 | 0 | 0.000000000 | 16 | 2.1 |  0 | ⋯ | 68 | 198 |  5 | 1 | 141 | 135 | 138 |  13 | 0 | 1 |\n",
       "| 134 | 0.002560819 | 0 | 0.007682458 | 0.002560819 | 0 | 0.000000000 | 16 | 2.4 |  0 | ⋯ | 53 | 170 | 11 | 0 | 137 | 134 | 137 |  13 | 1 | 1 |\n",
       "| 132 | 0.006514658 | 0 | 0.008143322 | 0.000000000 | 0 | 0.000000000 | 16 | 2.4 |  0 | ⋯ | 53 | 170 |  9 | 0 | 137 | 136 | 138 |  11 | 1 | 1 |\n",
       "| 134 | 0.001049318 | 0 | 0.010493179 | 0.009443861 | 0 | 0.002098636 | 26 | 5.9 |  0 | ⋯ | 50 | 200 |  5 | 3 |  76 | 107 | 107 | 170 | 0 | 3 |\n",
       "\n"
      ],
      "text/plain": [
       "  LB  AC          FM UC          DL          DS DP          ASTV MSTV ALTV ⋯\n",
       "1 120 0.000000000 0  0.000000000 0.000000000 0  0.000000000 73   0.5  43   ⋯\n",
       "2 132 0.006379585 0  0.006379585 0.003189793 0  0.000000000 17   2.1   0   ⋯\n",
       "3 133 0.003322259 0  0.008305648 0.003322259 0  0.000000000 16   2.1   0   ⋯\n",
       "4 134 0.002560819 0  0.007682458 0.002560819 0  0.000000000 16   2.4   0   ⋯\n",
       "5 132 0.006514658 0  0.008143322 0.000000000 0  0.000000000 16   2.4   0   ⋯\n",
       "6 134 0.001049318 0  0.010493179 0.009443861 0  0.002098636 26   5.9   0   ⋯\n",
       "  Min Max Nmax Nzeros Mode Mean Median Variance Tendency NSP\n",
       "1 62  126  2   0      120  137  121     73      1        2  \n",
       "2 68  198  6   1      141  136  140     12      0        1  \n",
       "3 68  198  5   1      141  135  138     13      0        1  \n",
       "4 53  170 11   0      137  134  137     13      1        1  \n",
       "5 53  170  9   0      137  136  138     11      1        1  \n",
       "6 50  200  5   3       76  107  107    170      0        3  "
      ]
     },
     "metadata": {},
     "output_type": "display_data"
    }
   ],
   "source": [
    "# Data\n",
    "library (readr)\n",
    "\n",
    "urlfile=\"https://raw.githubusercontent.com/bkrai/R-files-from-YouTube/main/Cardiotocographic.csv\"\n",
    "mydata<-read_csv(url(urlfile))\n",
    "head(mydata)\n",
    "\n",
    "# except NSP all variables are independent variables\n",
    "# NSP is a dependent variable\n",
    "## NSP = 1 --> Normal patient\n",
    "## NSP = 2 --> Suspect patient\n",
    "## NSP = 3 --> Pathologic patient\n",
    "## N - Normal \n",
    "## S - Suspect\n",
    "## P - Pathologic"
   ]
  },
  {
   "cell_type": "code",
   "execution_count": 2,
   "id": "d7c1a259",
   "metadata": {
    "execution": {
     "iopub.execute_input": "2021-12-08T10:53:33.668245Z",
     "iopub.status.busy": "2021-12-08T10:53:33.600805Z",
     "iopub.status.idle": "2021-12-08T10:53:33.684182Z",
     "shell.execute_reply": "2021-12-08T10:53:33.682517Z"
    },
    "papermill": {
     "duration": 0.134965,
     "end_time": "2021-12-08T10:53:33.684338",
     "exception": false,
     "start_time": "2021-12-08T10:53:33.549373",
     "status": "completed"
    },
    "tags": []
   },
   "outputs": [],
   "source": [
    "# NSP is integer. We first need to convert from integer to factor\n",
    "mydata$NSP <- as.factor(mydata$NSP)"
   ]
  },
  {
   "cell_type": "markdown",
   "id": "dd5e9875",
   "metadata": {
    "papermill": {
     "duration": 0.046609,
     "end_time": "2021-12-08T10:53:33.778395",
     "exception": false,
     "start_time": "2021-12-08T10:53:33.731786",
     "status": "completed"
    },
    "tags": []
   },
   "source": [
    "<a id = \"3\"></a><br>\n",
    "# 1.2. Data Partition\n",
    "* CTG data\n",
    "* Categorical response variables at three levels\n",
    "* Data partition\n",
    "* Multinomial Logistic Regression Model"
   ]
  },
  {
   "cell_type": "code",
   "execution_count": 3,
   "id": "8f35f7b3",
   "metadata": {
    "execution": {
     "iopub.execute_input": "2021-12-08T10:53:33.878843Z",
     "iopub.status.busy": "2021-12-08T10:53:33.877943Z",
     "iopub.status.idle": "2021-12-08T10:53:33.899737Z",
     "shell.execute_reply": "2021-12-08T10:53:33.898087Z"
    },
    "papermill": {
     "duration": 0.073954,
     "end_time": "2021-12-08T10:53:33.899893",
     "exception": false,
     "start_time": "2021-12-08T10:53:33.825939",
     "status": "completed"
    },
    "tags": []
   },
   "outputs": [],
   "source": [
    "# Data Partition\n",
    "set.seed(222)\n",
    "ind <- sample(2, nrow(mydata),\n",
    "              replace = TRUE, # sampling for replacing\n",
    "              prob = c(0.6, 0.4)) # we use probability for splitting\n",
    "\n",
    "\n",
    "training <- mydata[ind == 1,  ]  # first data set we call training, 1 is first 60% of data\n",
    "testing <- mydata[ind == 2, ] \n",
    "# training data has 1277 observations\n",
    "# testing data has 849 observations"
   ]
  },
  {
   "cell_type": "markdown",
   "id": "b0277754",
   "metadata": {
    "papermill": {
     "duration": 0.047003,
     "end_time": "2021-12-08T10:53:33.994781",
     "exception": false,
     "start_time": "2021-12-08T10:53:33.947778",
     "status": "completed"
    },
    "tags": []
   },
   "source": [
    "<a id = \"4\"></a><br>\n",
    "## 1.3. Multinominal Logistic Regression"
   ]
  },
  {
   "cell_type": "code",
   "execution_count": 4,
   "id": "8fc6f913",
   "metadata": {
    "execution": {
     "iopub.execute_input": "2021-12-08T10:53:34.099162Z",
     "iopub.status.busy": "2021-12-08T10:53:34.097638Z",
     "iopub.status.idle": "2021-12-08T10:53:34.435765Z",
     "shell.execute_reply": "2021-12-08T10:53:34.434171Z"
    },
    "papermill": {
     "duration": 0.39344,
     "end_time": "2021-12-08T10:53:34.435914",
     "exception": false,
     "start_time": "2021-12-08T10:53:34.042474",
     "status": "completed"
    },
    "tags": []
   },
   "outputs": [
    {
     "name": "stdout",
     "output_type": "stream",
     "text": [
      "# weights:  69 (44 variable)\n",
      "initial  value 1402.927893 \n",
      "iter  10 value 539.773236\n",
      "iter  20 value 505.865352\n",
      "iter  30 value 392.508097\n",
      "iter  40 value 351.485743\n",
      "iter  50 value 346.813302\n",
      "iter  60 value 316.596959\n",
      "iter  70 value 285.825391\n",
      "iter  80 value 284.436641\n",
      "iter  90 value 268.916989\n",
      "iter 100 value 268.916331\n",
      "final  value 268.916331 \n",
      "stopped after 100 iterations\n"
     ]
    },
    {
     "data": {
      "text/plain": [
       "Call:\n",
       "multinom(formula = NSP ~ ., data = training)\n",
       "\n",
       "Coefficients:\n",
       "  (Intercept)         LB          AC       FM        UC        DL          DS\n",
       "2    -18.6761 -0.1143064 -1109.42102 16.34689 -300.4571 -73.95458 -0.73744258\n",
       "3    -21.0584  0.4499481   -50.02172 19.36992 -384.2860 -76.86968 -0.04088559\n",
       "        DP       ASTV        MSTV       ALTV         MLTV       Width\n",
       "2 82.13684 0.08339589  0.01668685 0.02918356 -0.005775719 0.005367618\n",
       "3 77.83336 0.20193024 -1.24041820 0.07712771  0.056655347 0.010265594\n",
       "         Min        Max        Nmax      Nzeros        Mode       Mean\n",
       "2 0.01840666 0.02377429  0.08924204 -0.21841801 -0.07898500  0.2157336\n",
       "3 0.01462147 0.02488706 -0.13374794  0.09458505  0.05601353 -0.1114634\n",
       "       Median   Variance  Tendency\n",
       "2  0.02766913 0.05616717 0.2946502\n",
       "3 -0.40033259 0.07035541 0.1481800\n",
       "\n",
       "Std. Errors:\n",
       "  (Intercept)         LB          AC        FM          UC          DL\n",
       "2   2.2222232 0.03794180 0.014531690 2.1560902 0.003467970 0.001159880\n",
       "3   0.5906376 0.05108731 0.001884473 0.4171358 0.007965918 0.001858988\n",
       "            DS           DP       ASTV      MSTV        ALTV       MLTV\n",
       "2 6.765490e-05 0.0040009679 0.01354419 0.3187348 0.007799684 0.03906499\n",
       "3 8.286699e-07 0.0006774629 0.02377892 0.4984112 0.013175634 0.08673451\n",
       "        Width         Min        Max       Nmax    Nzeros       Mode       Mean\n",
       "2 0.005383572 0.009784577 0.01266460 0.06772952 0.1796966 0.03121399 0.06303034\n",
       "3 0.007636152 0.013571845 0.01375938 0.13957712 0.4517603 0.04587593 0.04871025\n",
       "      Median    Variance  Tendency\n",
       "2 0.08096432 0.008569025 0.3422200\n",
       "3 0.07513612 0.012196568 0.5204718\n",
       "\n",
       "Residual Deviance: 537.8327 \n",
       "AIC: 621.8327 "
      ]
     },
     "metadata": {},
     "output_type": "display_data"
    }
   ],
   "source": [
    "# Multinominal Logistic Regression\n",
    "library(nnet)\n",
    "training$NSP <- relevel(training$NSP, ref = \"1\") # as as reference we put 1 for normal patient\n",
    "mymodel <- multinom(NSP~., data = training)    # it means all other variables, remember NSP is a dependent variable, apart from NSP we have 21 variables\n",
    "# this is based on training data model\n",
    "summary(mymodel)"
   ]
  },
  {
   "cell_type": "markdown",
   "id": "1451b2d9",
   "metadata": {
    "papermill": {
     "duration": 0.055869,
     "end_time": "2021-12-08T10:53:34.588321",
     "exception": false,
     "start_time": "2021-12-08T10:53:34.532452",
     "status": "completed"
    },
    "tags": []
   },
   "source": [
    "<a id = \"5\"></a><br>\n",
    "# 2. Model and Interpretation\n",
    "<a id = \"6\"></a><br>\n",
    "## 2.1. Two Tail Z-test p-value"
   ]
  },
  {
   "cell_type": "code",
   "execution_count": 5,
   "id": "43a06b40",
   "metadata": {
    "execution": {
     "iopub.execute_input": "2021-12-08T10:53:34.702127Z",
     "iopub.status.busy": "2021-12-08T10:53:34.700064Z",
     "iopub.status.idle": "2021-12-08T10:53:35.078241Z",
     "shell.execute_reply": "2021-12-08T10:53:35.074292Z"
    },
    "papermill": {
     "duration": 0.44033,
     "end_time": "2021-12-08T10:53:35.078485",
     "exception": false,
     "start_time": "2021-12-08T10:53:34.638155",
     "status": "completed"
    },
    "tags": []
   },
   "outputs": [
    {
     "data": {
      "text/html": [
       "<table class=\"dataframe\">\n",
       "<caption>A matrix: 2 × 22 of type dbl</caption>\n",
       "<thead>\n",
       "\t<tr><th></th><th scope=col>(Intercept)</th><th scope=col>LB</th><th scope=col>AC</th><th scope=col>FM</th><th scope=col>UC</th><th scope=col>DL</th><th scope=col>DS</th><th scope=col>DP</th><th scope=col>ASTV</th><th scope=col>MSTV</th><th scope=col>⋯</th><th scope=col>Width</th><th scope=col>Min</th><th scope=col>Max</th><th scope=col>Nmax</th><th scope=col>Nzeros</th><th scope=col>Mode</th><th scope=col>Mean</th><th scope=col>Median</th><th scope=col>Variance</th><th scope=col>Tendency</th></tr>\n",
       "</thead>\n",
       "<tbody>\n",
       "\t<tr><th scope=row>2</th><td>1</td><td>1.001033</td><td>1</td><td>1</td><td>1</td><td>1</td><td>1</td><td>1</td><td>1</td><td>1.368149</td><td>⋯</td><td>1.126625</td><td>1.023911</td><td>1.024127</td><td>1.074744</td><td>1.089249</td><td>1.004545</td><td>1.000247</td><td>1.285837</td><td>1</td><td>1.154310</td></tr>\n",
       "\t<tr><th scope=row>3</th><td>1</td><td>1.000000</td><td>1</td><td>1</td><td>1</td><td>1</td><td>1</td><td>1</td><td>1</td><td>1.005114</td><td>⋯</td><td>1.071251</td><td>1.111865</td><td>1.028117</td><td>1.134181</td><td>1.323380</td><td>1.088421</td><td>1.008825</td><td>1.000000</td><td>1</td><td>1.301936</td></tr>\n",
       "</tbody>\n",
       "</table>\n"
      ],
      "text/latex": [
       "A matrix: 2 × 22 of type dbl\n",
       "\\begin{tabular}{r|lllllllllllllllllllll}\n",
       "  & (Intercept) & LB & AC & FM & UC & DL & DS & DP & ASTV & MSTV & ⋯ & Width & Min & Max & Nmax & Nzeros & Mode & Mean & Median & Variance & Tendency\\\\\n",
       "\\hline\n",
       "\t2 & 1 & 1.001033 & 1 & 1 & 1 & 1 & 1 & 1 & 1 & 1.368149 & ⋯ & 1.126625 & 1.023911 & 1.024127 & 1.074744 & 1.089249 & 1.004545 & 1.000247 & 1.285837 & 1 & 1.154310\\\\\n",
       "\t3 & 1 & 1.000000 & 1 & 1 & 1 & 1 & 1 & 1 & 1 & 1.005114 & ⋯ & 1.071251 & 1.111865 & 1.028117 & 1.134181 & 1.323380 & 1.088421 & 1.008825 & 1.000000 & 1 & 1.301936\\\\\n",
       "\\end{tabular}\n"
      ],
      "text/markdown": [
       "\n",
       "A matrix: 2 × 22 of type dbl\n",
       "\n",
       "| <!--/--> | (Intercept) | LB | AC | FM | UC | DL | DS | DP | ASTV | MSTV | ⋯ | Width | Min | Max | Nmax | Nzeros | Mode | Mean | Median | Variance | Tendency |\n",
       "|---|---|---|---|---|---|---|---|---|---|---|---|---|---|---|---|---|---|---|---|---|---|\n",
       "| 2 | 1 | 1.001033 | 1 | 1 | 1 | 1 | 1 | 1 | 1 | 1.368149 | ⋯ | 1.126625 | 1.023911 | 1.024127 | 1.074744 | 1.089249 | 1.004545 | 1.000247 | 1.285837 | 1 | 1.154310 |\n",
       "| 3 | 1 | 1.000000 | 1 | 1 | 1 | 1 | 1 | 1 | 1 | 1.005114 | ⋯ | 1.071251 | 1.111865 | 1.028117 | 1.134181 | 1.323380 | 1.088421 | 1.008825 | 1.000000 | 1 | 1.301936 |\n",
       "\n"
      ],
      "text/plain": [
       "  (Intercept) LB       AC FM UC DL DS DP ASTV MSTV     ⋯ Width    Min     \n",
       "2 1           1.001033 1  1  1  1  1  1  1    1.368149 ⋯ 1.126625 1.023911\n",
       "3 1           1.000000 1  1  1  1  1  1  1    1.005114 ⋯ 1.071251 1.111865\n",
       "  Max      Nmax     Nzeros   Mode     Mean     Median   Variance Tendency\n",
       "2 1.024127 1.074744 1.089249 1.004545 1.000247 1.285837 1        1.154310\n",
       "3 1.028117 1.134181 1.323380 1.088421 1.008825 1.000000 1        1.301936"
      ]
     },
     "metadata": {},
     "output_type": "display_data"
    }
   ],
   "source": [
    "# Finalizing model\n",
    "## Two Tail Z-test p-value\n",
    "z <- summary(mymodel)$coefficients/summary(mymodel)$standard.errors\n",
    "p <- pnorm(1 - pnorm(abs(z), 0, 1)) * 2  # we add 2 due two tail z-test\n",
    "p"
   ]
  },
  {
   "cell_type": "markdown",
   "id": "02b6c962",
   "metadata": {
    "papermill": {
     "duration": 0.051079,
     "end_time": "2021-12-08T10:53:35.225403",
     "exception": false,
     "start_time": "2021-12-08T10:53:35.174324",
     "status": "completed"
    },
    "tags": []
   },
   "source": [
    "<a id = \"7\"></a><br>\n",
    "## 2.2. Second Model"
   ]
  },
  {
   "cell_type": "code",
   "execution_count": 6,
   "id": "26111ae5",
   "metadata": {
    "execution": {
     "iopub.execute_input": "2021-12-08T10:53:35.334382Z",
     "iopub.status.busy": "2021-12-08T10:53:35.332457Z",
     "iopub.status.idle": "2021-12-08T10:53:35.613973Z",
     "shell.execute_reply": "2021-12-08T10:53:35.612650Z"
    },
    "papermill": {
     "duration": 0.337509,
     "end_time": "2021-12-08T10:53:35.614108",
     "exception": false,
     "start_time": "2021-12-08T10:53:35.276599",
     "status": "completed"
    },
    "tags": []
   },
   "outputs": [
    {
     "name": "stdout",
     "output_type": "stream",
     "text": [
      "# weights:  48 (30 variable)\n",
      "initial  value 1402.927893 \n",
      "iter  10 value 524.667208\n",
      "iter  20 value 396.280355\n",
      "iter  30 value 363.851254\n",
      "iter  40 value 355.488322\n",
      "iter  50 value 313.735159\n",
      "iter  60 value 290.981697\n",
      "iter  70 value 290.876039\n",
      "iter  80 value 290.786285\n",
      "iter  90 value 282.315552\n",
      "iter 100 value 279.633852\n",
      "final  value 279.633852 \n",
      "stopped after 100 iterations\n"
     ]
    },
    {
     "data": {
      "text/html": [
       "<table class=\"dataframe\">\n",
       "<caption>A matrix: 2 × 15 of type dbl</caption>\n",
       "<thead>\n",
       "\t<tr><th></th><th scope=col>(Intercept)</th><th scope=col>LB</th><th scope=col>AC</th><th scope=col>FM</th><th scope=col>UC</th><th scope=col>DL</th><th scope=col>DS</th><th scope=col>DP</th><th scope=col>ASTV</th><th scope=col>MSTV</th><th scope=col>ALTV</th><th scope=col>Mode</th><th scope=col>Mean</th><th scope=col>Median</th><th scope=col>Variance</th></tr>\n",
       "</thead>\n",
       "<tbody>\n",
       "\t<tr><th scope=row>2</th><td>1</td><td>1.009405</td><td>1</td><td>1</td><td>1</td><td>1</td><td>1</td><td>1</td><td>1</td><td>1.347954</td><td>1.000007</td><td>1.003839</td><td>1.001802</td><td>1.091561</td><td>1</td></tr>\n",
       "\t<tr><th scope=row>3</th><td>1</td><td>1.000000</td><td>1</td><td>1</td><td>1</td><td>1</td><td>1</td><td>1</td><td>1</td><td>1.011089</td><td>1.000000</td><td>1.141510</td><td>1.018859</td><td>1.000002</td><td>1</td></tr>\n",
       "</tbody>\n",
       "</table>\n"
      ],
      "text/latex": [
       "A matrix: 2 × 15 of type dbl\n",
       "\\begin{tabular}{r|lllllllllllllll}\n",
       "  & (Intercept) & LB & AC & FM & UC & DL & DS & DP & ASTV & MSTV & ALTV & Mode & Mean & Median & Variance\\\\\n",
       "\\hline\n",
       "\t2 & 1 & 1.009405 & 1 & 1 & 1 & 1 & 1 & 1 & 1 & 1.347954 & 1.000007 & 1.003839 & 1.001802 & 1.091561 & 1\\\\\n",
       "\t3 & 1 & 1.000000 & 1 & 1 & 1 & 1 & 1 & 1 & 1 & 1.011089 & 1.000000 & 1.141510 & 1.018859 & 1.000002 & 1\\\\\n",
       "\\end{tabular}\n"
      ],
      "text/markdown": [
       "\n",
       "A matrix: 2 × 15 of type dbl\n",
       "\n",
       "| <!--/--> | (Intercept) | LB | AC | FM | UC | DL | DS | DP | ASTV | MSTV | ALTV | Mode | Mean | Median | Variance |\n",
       "|---|---|---|---|---|---|---|---|---|---|---|---|---|---|---|---|\n",
       "| 2 | 1 | 1.009405 | 1 | 1 | 1 | 1 | 1 | 1 | 1 | 1.347954 | 1.000007 | 1.003839 | 1.001802 | 1.091561 | 1 |\n",
       "| 3 | 1 | 1.000000 | 1 | 1 | 1 | 1 | 1 | 1 | 1 | 1.011089 | 1.000000 | 1.141510 | 1.018859 | 1.000002 | 1 |\n",
       "\n"
      ],
      "text/plain": [
       "  (Intercept) LB       AC FM UC DL DS DP ASTV MSTV     ALTV     Mode    \n",
       "2 1           1.009405 1  1  1  1  1  1  1    1.347954 1.000007 1.003839\n",
       "3 1           1.000000 1  1  1  1  1  1  1    1.011089 1.000000 1.141510\n",
       "  Mean     Median   Variance\n",
       "2 1.001802 1.091561 1       \n",
       "3 1.018859 1.000002 1       "
      ]
     },
     "metadata": {},
     "output_type": "display_data"
    }
   ],
   "source": [
    "# SECOND MODEL\n",
    "# we will not use the value more than 0.05 \n",
    "# let's adjust model again\n",
    "mymodel <- multinom(NSP~. -MLTV -Width - Min - Max - Nmax -Nzeros - Tendency,\n",
    "                    data = training)\n",
    "\n",
    "\n",
    "z <- summary(mymodel)$coefficients/summary(mymodel)$standard.errors\n",
    "p <- pnorm(1 - pnorm(abs(z), 0, 1)) * 2  # we add 2 due two tail z-test\n",
    "p"
   ]
  },
  {
   "cell_type": "code",
   "execution_count": 7,
   "id": "4d758a0b",
   "metadata": {
    "execution": {
     "iopub.execute_input": "2021-12-08T10:53:35.729102Z",
     "iopub.status.busy": "2021-12-08T10:53:35.727414Z",
     "iopub.status.idle": "2021-12-08T10:53:35.739161Z",
     "shell.execute_reply": "2021-12-08T10:53:35.737879Z"
    },
    "papermill": {
     "duration": 0.070323,
     "end_time": "2021-12-08T10:53:35.739308",
     "exception": false,
     "start_time": "2021-12-08T10:53:35.668985",
     "status": "completed"
    },
    "tags": []
   },
   "outputs": [],
   "source": [
    "# Interpretation\n",
    "# Eqauation\n",
    "# NSP = 2  patient is suspicious, NSP = 1 patient is normal, this log-odds\n",
    "# we don't have y and nsp\n",
    "# this is first equation\n",
    "# In[P(NSP=2) / (NSP=1)] = -16,62047 + (-0.07164 * LB) + (-748.85498 * AC) + ....+ (0.0464* Varience)\n",
    "\n",
    "\n",
    "# second equation\n",
    "# NSP = 3 patient is Pathologic \n",
    "# In[P(NSP=3)/P(NSP=1)] = -18.55244 + (0.40854 * LB) + (-29.62735 * AC) + .... + (0.6643 / Varience)"
   ]
  },
  {
   "cell_type": "markdown",
   "id": "a1925329",
   "metadata": {
    "papermill": {
     "duration": 0.054495,
     "end_time": "2021-12-08T10:53:35.848991",
     "exception": false,
     "start_time": "2021-12-08T10:53:35.794496",
     "status": "completed"
    },
    "tags": []
   },
   "source": [
    "<a id = \"8\"></a><br>\n",
    "# 3. Confusion Matrix & Misclassification Error \n",
    "<a id = \"9\"></a><br>\n",
    "## 3.1 Training Data"
   ]
  },
  {
   "cell_type": "code",
   "execution_count": 8,
   "id": "b3104cbc",
   "metadata": {
    "execution": {
     "iopub.execute_input": "2021-12-08T10:53:35.962763Z",
     "iopub.status.busy": "2021-12-08T10:53:35.961215Z",
     "iopub.status.idle": "2021-12-08T10:53:36.006889Z",
     "shell.execute_reply": "2021-12-08T10:53:36.005311Z"
    },
    "papermill": {
     "duration": 0.10378,
     "end_time": "2021-12-08T10:53:36.007055",
     "exception": false,
     "start_time": "2021-12-08T10:53:35.903275",
     "status": "completed"
    },
    "tags": []
   },
   "outputs": [
    {
     "data": {
      "text/html": [
       "<style>\n",
       ".list-inline {list-style: none; margin:0; padding: 0}\n",
       ".list-inline>li {display: inline-block}\n",
       ".list-inline>li:not(:last-child)::after {content: \"\\00b7\"; padding: 0 .5ex}\n",
       "</style>\n",
       "<ol class=list-inline><li>1</li><li>1</li><li>1</li><li>3</li><li>3</li><li>1</li></ol>\n",
       "\n",
       "<details>\n",
       "\t<summary style=display:list-item;cursor:pointer>\n",
       "\t\t<strong>Levels</strong>:\n",
       "\t</summary>\n",
       "\t<style>\n",
       "\t.list-inline {list-style: none; margin:0; padding: 0}\n",
       "\t.list-inline>li {display: inline-block}\n",
       "\t.list-inline>li:not(:last-child)::after {content: \"\\00b7\"; padding: 0 .5ex}\n",
       "\t</style>\n",
       "\t<ol class=list-inline><li>'1'</li><li>'2'</li><li>'3'</li></ol>\n",
       "</details>"
      ],
      "text/latex": [
       "\\begin{enumerate*}\n",
       "\\item 1\n",
       "\\item 1\n",
       "\\item 1\n",
       "\\item 3\n",
       "\\item 3\n",
       "\\item 1\n",
       "\\end{enumerate*}\n",
       "\n",
       "\\emph{Levels}: \\begin{enumerate*}\n",
       "\\item '1'\n",
       "\\item '2'\n",
       "\\item '3'\n",
       "\\end{enumerate*}\n"
      ],
      "text/markdown": [
       "1. 1\n",
       "2. 1\n",
       "3. 1\n",
       "4. 3\n",
       "5. 3\n",
       "6. 1\n",
       "\n",
       "\n",
       "\n",
       "**Levels**: 1. '1'\n",
       "2. '2'\n",
       "3. '3'\n",
       "\n",
       "\n"
      ],
      "text/plain": [
       "[1] 1 1 1 3 3 1\n",
       "Levels: 1 2 3"
      ]
     },
     "metadata": {},
     "output_type": "display_data"
    }
   ],
   "source": [
    "# Confusion Matrix & Misclassification Error - Training Data\n",
    "p <- predict(mymodel, training)\n",
    "head(p)"
   ]
  },
  {
   "cell_type": "code",
   "execution_count": 9,
   "id": "9ae1004a",
   "metadata": {
    "execution": {
     "iopub.execute_input": "2021-12-08T10:53:36.126190Z",
     "iopub.status.busy": "2021-12-08T10:53:36.125522Z",
     "iopub.status.idle": "2021-12-08T10:53:36.142243Z",
     "shell.execute_reply": "2021-12-08T10:53:36.140822Z"
    },
    "papermill": {
     "duration": 0.078447,
     "end_time": "2021-12-08T10:53:36.142376",
     "exception": false,
     "start_time": "2021-12-08T10:53:36.063929",
     "status": "completed"
    },
    "tags": []
   },
   "outputs": [
    {
     "data": {
      "text/html": [
       "<style>\n",
       ".list-inline {list-style: none; margin:0; padding: 0}\n",
       ".list-inline>li {display: inline-block}\n",
       ".list-inline>li:not(:last-child)::after {content: \"\\00b7\"; padding: 0 .5ex}\n",
       "</style>\n",
       "<ol class=list-inline><li>1</li><li>1</li><li>1</li><li>3</li><li>3</li><li>3</li></ol>\n",
       "\n",
       "<details>\n",
       "\t<summary style=display:list-item;cursor:pointer>\n",
       "\t\t<strong>Levels</strong>:\n",
       "\t</summary>\n",
       "\t<style>\n",
       "\t.list-inline {list-style: none; margin:0; padding: 0}\n",
       "\t.list-inline>li {display: inline-block}\n",
       "\t.list-inline>li:not(:last-child)::after {content: \"\\00b7\"; padding: 0 .5ex}\n",
       "\t</style>\n",
       "\t<ol class=list-inline><li>'1'</li><li>'2'</li><li>'3'</li></ol>\n",
       "</details>"
      ],
      "text/latex": [
       "\\begin{enumerate*}\n",
       "\\item 1\n",
       "\\item 1\n",
       "\\item 1\n",
       "\\item 3\n",
       "\\item 3\n",
       "\\item 3\n",
       "\\end{enumerate*}\n",
       "\n",
       "\\emph{Levels}: \\begin{enumerate*}\n",
       "\\item '1'\n",
       "\\item '2'\n",
       "\\item '3'\n",
       "\\end{enumerate*}\n"
      ],
      "text/markdown": [
       "1. 1\n",
       "2. 1\n",
       "3. 1\n",
       "4. 3\n",
       "5. 3\n",
       "6. 3\n",
       "\n",
       "\n",
       "\n",
       "**Levels**: 1. '1'\n",
       "2. '2'\n",
       "3. '3'\n",
       "\n",
       "\n"
      ],
      "text/plain": [
       "[1] 1 1 1 3 3 3\n",
       "Levels: 1 2 3"
      ]
     },
     "metadata": {},
     "output_type": "display_data"
    }
   ],
   "source": [
    "head(training$NSP)\n",
    "# when we compare the outputs, out of six predictions we see that 5 are correct, last one is wrong"
   ]
  },
  {
   "cell_type": "code",
   "execution_count": 10,
   "id": "13599688",
   "metadata": {
    "execution": {
     "iopub.execute_input": "2021-12-08T10:53:36.264113Z",
     "iopub.status.busy": "2021-12-08T10:53:36.262514Z",
     "iopub.status.idle": "2021-12-08T10:53:36.281166Z",
     "shell.execute_reply": "2021-12-08T10:53:36.279827Z"
    },
    "papermill": {
     "duration": 0.080817,
     "end_time": "2021-12-08T10:53:36.281308",
     "exception": false,
     "start_time": "2021-12-08T10:53:36.200491",
     "status": "completed"
    },
    "tags": []
   },
   "outputs": [
    {
     "data": {
      "text/plain": [
       "   \n",
       "p     1   2   3\n",
       "  1 965  57   7\n",
       "  2  33 100  12\n",
       "  3   6  12  85"
      ]
     },
     "metadata": {},
     "output_type": "display_data"
    }
   ],
   "source": [
    "# top numbers of the table is actual numbers, prediction is on the left side\n",
    "tab <- table(p, training$NSP)\n",
    "tab"
   ]
  },
  {
   "cell_type": "code",
   "execution_count": 11,
   "id": "884512c7",
   "metadata": {
    "execution": {
     "iopub.execute_input": "2021-12-08T10:53:36.406210Z",
     "iopub.status.busy": "2021-12-08T10:53:36.404758Z",
     "iopub.status.idle": "2021-12-08T10:53:36.421700Z",
     "shell.execute_reply": "2021-12-08T10:53:36.420336Z"
    },
    "papermill": {
     "duration": 0.080511,
     "end_time": "2021-12-08T10:53:36.421841",
     "exception": false,
     "start_time": "2021-12-08T10:53:36.341330",
     "status": "completed"
    },
    "tags": []
   },
   "outputs": [
    {
     "data": {
      "text/html": [
       "0.900548159749413"
      ],
      "text/latex": [
       "0.900548159749413"
      ],
      "text/markdown": [
       "0.900548159749413"
      ],
      "text/plain": [
       "[1] 0.9005482"
      ]
     },
     "metadata": {},
     "output_type": "display_data"
    }
   ],
   "source": [
    "# accuracy\n",
    "sum(diag(tab)) / sum(tab)"
   ]
  },
  {
   "cell_type": "code",
   "execution_count": 12,
   "id": "de96f157",
   "metadata": {
    "execution": {
     "iopub.execute_input": "2021-12-08T10:53:36.551243Z",
     "iopub.status.busy": "2021-12-08T10:53:36.549411Z",
     "iopub.status.idle": "2021-12-08T10:53:36.568014Z",
     "shell.execute_reply": "2021-12-08T10:53:36.566579Z"
    },
    "papermill": {
     "duration": 0.085246,
     "end_time": "2021-12-08T10:53:36.568160",
     "exception": false,
     "start_time": "2021-12-08T10:53:36.482914",
     "status": "completed"
    },
    "tags": []
   },
   "outputs": [
    {
     "data": {
      "text/html": [
       "0.0994518402505873"
      ],
      "text/latex": [
       "0.0994518402505873"
      ],
      "text/markdown": [
       "0.0994518402505873"
      ],
      "text/plain": [
       "[1] 0.09945184"
      ]
     },
     "metadata": {},
     "output_type": "display_data"
    }
   ],
   "source": [
    "# misclassifications\n",
    "1 - sum(diag(tab)) / sum(tab)"
   ]
  },
  {
   "cell_type": "markdown",
   "id": "9f1c1f03",
   "metadata": {
    "papermill": {
     "duration": 0.062695,
     "end_time": "2021-12-08T10:53:36.702760",
     "exception": false,
     "start_time": "2021-12-08T10:53:36.640065",
     "status": "completed"
    },
    "tags": []
   },
   "source": [
    "<a id = \"10\"></a><br>\n",
    "## 3.2 Testing Data"
   ]
  },
  {
   "cell_type": "code",
   "execution_count": 13,
   "id": "430added",
   "metadata": {
    "execution": {
     "iopub.execute_input": "2021-12-08T10:53:36.836155Z",
     "iopub.status.busy": "2021-12-08T10:53:36.835496Z",
     "iopub.status.idle": "2021-12-08T10:53:36.870825Z",
     "shell.execute_reply": "2021-12-08T10:53:36.869305Z"
    },
    "papermill": {
     "duration": 0.105062,
     "end_time": "2021-12-08T10:53:36.870970",
     "exception": false,
     "start_time": "2021-12-08T10:53:36.765908",
     "status": "completed"
    },
    "tags": []
   },
   "outputs": [
    {
     "data": {
      "text/plain": [
       "   \n",
       "p1    1   2   3\n",
       "  1 619  36   4\n",
       "  2  26  84  15\n",
       "  3   6   6  53"
      ]
     },
     "metadata": {},
     "output_type": "display_data"
    }
   ],
   "source": [
    "# Confusion Matrix & Misclassification Error - testing Data\n",
    "p1 <- predict(mymodel, testing)\n",
    "tab1 <- table(p1, testing$NSP)\n",
    "tab1"
   ]
  },
  {
   "cell_type": "code",
   "execution_count": 14,
   "id": "4ab1adb7",
   "metadata": {
    "execution": {
     "iopub.execute_input": "2021-12-08T10:53:37.005490Z",
     "iopub.status.busy": "2021-12-08T10:53:37.003982Z",
     "iopub.status.idle": "2021-12-08T10:53:37.021704Z",
     "shell.execute_reply": "2021-12-08T10:53:37.020100Z"
    },
    "papermill": {
     "duration": 0.086952,
     "end_time": "2021-12-08T10:53:37.021849",
     "exception": false,
     "start_time": "2021-12-08T10:53:36.934897",
     "status": "completed"
    },
    "tags": []
   },
   "outputs": [
    {
     "data": {
      "text/html": [
       "0.109540636042403"
      ],
      "text/latex": [
       "0.109540636042403"
      ],
      "text/markdown": [
       "0.109540636042403"
      ],
      "text/plain": [
       "[1] 0.1095406"
      ]
     },
     "metadata": {},
     "output_type": "display_data"
    }
   ],
   "source": [
    "# missclassifications\n",
    "1 - sum(diag(tab1)) / sum(tab1)"
   ]
  },
  {
   "cell_type": "markdown",
   "id": "dffe8113",
   "metadata": {
    "papermill": {
     "duration": 0.066123,
     "end_time": "2021-12-08T10:53:37.154627",
     "exception": false,
     "start_time": "2021-12-08T10:53:37.088504",
     "status": "completed"
    },
    "tags": []
   },
   "source": [
    "<a id = \"11\"></a><br>\n",
    "# 4. Prediction & Model Assessment"
   ]
  },
  {
   "cell_type": "code",
   "execution_count": 15,
   "id": "b7c9086d",
   "metadata": {
    "execution": {
     "iopub.execute_input": "2021-12-08T10:53:37.292336Z",
     "iopub.status.busy": "2021-12-08T10:53:37.290901Z",
     "iopub.status.idle": "2021-12-08T10:53:37.316107Z",
     "shell.execute_reply": "2021-12-08T10:53:37.314741Z"
    },
    "papermill": {
     "duration": 0.095312,
     "end_time": "2021-12-08T10:53:37.316253",
     "exception": false,
     "start_time": "2021-12-08T10:53:37.220941",
     "status": "completed"
    },
    "tags": []
   },
   "outputs": [
    {
     "data": {
      "text/plain": [
       "\n",
       "         1          2          3 \n",
       "0.78621770 0.13234143 0.08144088 "
      ]
     },
     "metadata": {},
     "output_type": "display_data"
    }
   ],
   "source": [
    "# Accuracy and Sensitivity - training data\n",
    "n <- table(training$NSP)\n",
    "# In training data set has 1004 patients are normal, 169 of them is suspucious, 104 Pathologic\n",
    "# let's see them as a ratio\n",
    "n / sum(n)"
   ]
  },
  {
   "cell_type": "code",
   "execution_count": 16,
   "id": "1e03424a",
   "metadata": {
    "execution": {
     "iopub.execute_input": "2021-12-08T10:53:37.455525Z",
     "iopub.status.busy": "2021-12-08T10:53:37.454008Z",
     "iopub.status.idle": "2021-12-08T10:53:37.471158Z",
     "shell.execute_reply": "2021-12-08T10:53:37.469739Z"
    },
    "papermill": {
     "duration": 0.087799,
     "end_time": "2021-12-08T10:53:37.471308",
     "exception": false,
     "start_time": "2021-12-08T10:53:37.383509",
     "status": "completed"
    },
    "tags": []
   },
   "outputs": [
    {
     "data": {
      "text/plain": [
       "   \n",
       "p             1           2           3\n",
       "  1 0.961155378 0.056772908 0.006972112\n",
       "  2 0.195266272 0.591715976 0.071005917\n",
       "  3 0.057692308 0.115384615 0.817307692"
      ]
     },
     "metadata": {},
     "output_type": "display_data"
    }
   ],
   "source": [
    "tab / colSums(tab)\n",
    "# this model 96 percent correct classification for 1, 59% correct for 2, 81% correct for 3\n",
    "# we made a good job 1 and 3 \n",
    "# 2 is not good as them as "
   ]
  },
  {
   "cell_type": "code",
   "execution_count": 17,
   "id": "f145f9e1",
   "metadata": {
    "execution": {
     "iopub.execute_input": "2021-12-08T10:53:37.613876Z",
     "iopub.status.busy": "2021-12-08T10:53:37.612376Z",
     "iopub.status.idle": "2021-12-08T10:53:37.628048Z",
     "shell.execute_reply": "2021-12-08T10:53:37.626777Z"
    },
    "papermill": {
     "duration": 0.088487,
     "end_time": "2021-12-08T10:53:37.628189",
     "exception": false,
     "start_time": "2021-12-08T10:53:37.539702",
     "status": "completed"
    },
    "tags": []
   },
   "outputs": [
    {
     "data": {
      "text/plain": [
       "   \n",
       "p1            1           2           3\n",
       "  1 0.950844854 0.055299539 0.006144393\n",
       "  2 0.206349206 0.666666667 0.119047619\n",
       "  3 0.083333333 0.083333333 0.736111111"
      ]
     },
     "metadata": {},
     "output_type": "display_data"
    }
   ],
   "source": [
    "tab1 / colSums(tab1)"
   ]
  },
  {
   "cell_type": "markdown",
   "id": "4efa3743",
   "metadata": {
    "papermill": {
     "duration": 0.068524,
     "end_time": "2021-12-08T10:53:37.766141",
     "exception": false,
     "start_time": "2021-12-08T10:53:37.697617",
     "status": "completed"
    },
    "tags": []
   },
   "source": [
    "<a id = \"12\"></a><br>\n",
    "# 5. References\n",
    "* https://www.youtube.com/watch?v=S2rZp4L_nXo&list=PL34t5iLfZddvv-L5iFFpd_P1jy_7ElWMG\n",
    "* https://www.youtube.com/watch?v=oxRy2DMrOF4&list=PL34t5iLfZddvv-L5iFFpd_P1jy_7ElWMG&index=2\n",
    "* https://www.youtube.com/watch?v=11VY8CmNVDQ&list=PL34t5iLfZddvv-L5iFFpd_P1jy_7ElWMG&index=3\n",
    "* https://www.youtube.com/watch?v=POyTaeneHJY&list=PL34t5iLfZddvv-L5iFFpd_P1jy_7ElWMG&index=4"
   ]
  }
 ],
 "metadata": {
  "kernelspec": {
   "display_name": "R",
   "language": "R",
   "name": "ir"
  },
  "language_info": {
   "codemirror_mode": "r",
   "file_extension": ".r",
   "mimetype": "text/x-r-source",
   "name": "R",
   "pygments_lexer": "r",
   "version": "4.0.5"
  },
  "papermill": {
   "default_parameters": {},
   "duration": 9.151921,
   "end_time": "2021-12-08T10:53:37.944447",
   "environment_variables": {},
   "exception": null,
   "input_path": "__notebook__.ipynb",
   "output_path": "__notebook__.ipynb",
   "parameters": {},
   "start_time": "2021-12-08T10:53:28.792526",
   "version": "2.3.3"
  }
 },
 "nbformat": 4,
 "nbformat_minor": 5
}
