{
 "cells": [
  {
   "cell_type": "markdown",
   "id": "bf620082",
   "metadata": {
    "papermill": {
     "duration": 0.070207,
     "end_time": "2021-11-23T11:18:48.486999",
     "exception": false,
     "start_time": "2021-11-23T11:18:48.416792",
     "status": "completed"
    },
    "tags": []
   },
   "source": [
    " 1. Multinomial Logistic Regression\n",
    " 2. Model & Interpretation\n",
    " 3. Misclassification Error and Confusion Matrix\n",
    " 4. Prediction and model assessment\n",
    "\n",
    "<font color = 'blue'>\n",
    "Content: \n",
    "\n",
    "1. [Multinomial Logistic Regression](#1)\n",
    "   * 1.1 [Data](#2)\n",
    "   * 1.2 [Data Partition](#3)\n",
    "   * 1.3 [Multinominal Logistic Regression](#4)\n",
    "\n",
    "1. [Model & Interpretation](#5)\n",
    "    * 2.1. [Two Tail Z-test p-value](#6)\n",
    "    * 2.2. [Second Model](#7)\n",
    "1. [Misclassification Error and Confusion Matrix](#8)\n",
    "    * 3.1. [Training Data](#9)\n",
    "    * 3.2. [Testing Data](#10)\n",
    "1. [Prediction and Model Assessment](#11)\n",
    "1. [References](#12)\n",
    "\n"
   ]
  },
  {
   "cell_type": "markdown",
   "id": "6b6ff754",
   "metadata": {
    "papermill": {
     "duration": 0.064984,
     "end_time": "2021-11-23T11:18:48.616804",
     "exception": false,
     "start_time": "2021-11-23T11:18:48.551820",
     "status": "completed"
    },
    "tags": []
   },
   "source": [
    "<a id = \"1\"></a><br>\n",
    "# 1. Multinomial Logistic Regression\n",
    "<a id = \"2\"></a><br>\n",
    "# 1.1. Data"
   ]
  },
  {
   "cell_type": "code",
   "execution_count": 1,
   "id": "50c1960b",
   "metadata": {
    "_execution_state": "idle",
    "_uuid": "051d70d956493feee0c6d64651c6a088724dca2a",
    "execution": {
     "iopub.execute_input": "2021-11-23T11:18:48.754918Z",
     "iopub.status.busy": "2021-11-23T11:18:48.751709Z",
     "iopub.status.idle": "2021-11-23T11:18:49.917846Z",
     "shell.execute_reply": "2021-11-23T11:18:49.917132Z"
    },
    "papermill": {
     "duration": 1.236219,
     "end_time": "2021-11-23T11:18:49.918001",
     "exception": false,
     "start_time": "2021-11-23T11:18:48.681782",
     "status": "completed"
    },
    "tags": []
   },
   "outputs": [
    {
     "name": "stderr",
     "output_type": "stream",
     "text": [
      "\u001b[1m\u001b[1mRows: \u001b[1m\u001b[22m\u001b[34m\u001b[34m2126\u001b[34m\u001b[39m \u001b[1m\u001b[1mColumns: \u001b[1m\u001b[22m\u001b[34m\u001b[34m22\u001b[34m\u001b[39m\n",
      "\n",
      "\u001b[36m──\u001b[39m \u001b[1m\u001b[1mColumn specification\u001b[1m\u001b[22m \u001b[36m────────────────────────────────────────────────────────\u001b[39m\n",
      "\u001b[1mDelimiter:\u001b[22m \",\"\n",
      "\u001b[32mdbl\u001b[39m (22): LB, AC, FM, UC, DL, DS, DP, ASTV, MSTV, ALTV, MLTV, Width, Min, Ma...\n",
      "\n",
      "\n",
      "\u001b[36mℹ\u001b[39m Use \u001b[30m\u001b[47m\u001b[30m\u001b[47m`spec()`\u001b[47m\u001b[30m\u001b[49m\u001b[39m to retrieve the full column specification for this data.\n",
      "\u001b[36mℹ\u001b[39m Specify the column types or set \u001b[30m\u001b[47m\u001b[30m\u001b[47m`show_col_types = FALSE`\u001b[47m\u001b[30m\u001b[49m\u001b[39m to quiet this message.\n",
      "\n"
     ]
    },
    {
     "data": {
      "text/html": [
       "<table class=\"dataframe\">\n",
       "<caption>A tibble: 6 × 22</caption>\n",
       "<thead>\n",
       "\t<tr><th scope=col>LB</th><th scope=col>AC</th><th scope=col>FM</th><th scope=col>UC</th><th scope=col>DL</th><th scope=col>DS</th><th scope=col>DP</th><th scope=col>ASTV</th><th scope=col>MSTV</th><th scope=col>ALTV</th><th scope=col>⋯</th><th scope=col>Min</th><th scope=col>Max</th><th scope=col>Nmax</th><th scope=col>Nzeros</th><th scope=col>Mode</th><th scope=col>Mean</th><th scope=col>Median</th><th scope=col>Variance</th><th scope=col>Tendency</th><th scope=col>NSP</th></tr>\n",
       "\t<tr><th scope=col>&lt;dbl&gt;</th><th scope=col>&lt;dbl&gt;</th><th scope=col>&lt;dbl&gt;</th><th scope=col>&lt;dbl&gt;</th><th scope=col>&lt;dbl&gt;</th><th scope=col>&lt;dbl&gt;</th><th scope=col>&lt;dbl&gt;</th><th scope=col>&lt;dbl&gt;</th><th scope=col>&lt;dbl&gt;</th><th scope=col>&lt;dbl&gt;</th><th scope=col>⋯</th><th scope=col>&lt;dbl&gt;</th><th scope=col>&lt;dbl&gt;</th><th scope=col>&lt;dbl&gt;</th><th scope=col>&lt;dbl&gt;</th><th scope=col>&lt;dbl&gt;</th><th scope=col>&lt;dbl&gt;</th><th scope=col>&lt;dbl&gt;</th><th scope=col>&lt;dbl&gt;</th><th scope=col>&lt;dbl&gt;</th><th scope=col>&lt;dbl&gt;</th></tr>\n",
       "</thead>\n",
       "<tbody>\n",
       "\t<tr><td>120</td><td>0.000000000</td><td>0</td><td>0.000000000</td><td>0.000000000</td><td>0</td><td>0.000000000</td><td>73</td><td>0.5</td><td>43</td><td>⋯</td><td>62</td><td>126</td><td> 2</td><td>0</td><td>120</td><td>137</td><td>121</td><td> 73</td><td>1</td><td>2</td></tr>\n",
       "\t<tr><td>132</td><td>0.006379585</td><td>0</td><td>0.006379585</td><td>0.003189793</td><td>0</td><td>0.000000000</td><td>17</td><td>2.1</td><td> 0</td><td>⋯</td><td>68</td><td>198</td><td> 6</td><td>1</td><td>141</td><td>136</td><td>140</td><td> 12</td><td>0</td><td>1</td></tr>\n",
       "\t<tr><td>133</td><td>0.003322259</td><td>0</td><td>0.008305648</td><td>0.003322259</td><td>0</td><td>0.000000000</td><td>16</td><td>2.1</td><td> 0</td><td>⋯</td><td>68</td><td>198</td><td> 5</td><td>1</td><td>141</td><td>135</td><td>138</td><td> 13</td><td>0</td><td>1</td></tr>\n",
       "\t<tr><td>134</td><td>0.002560819</td><td>0</td><td>0.007682458</td><td>0.002560819</td><td>0</td><td>0.000000000</td><td>16</td><td>2.4</td><td> 0</td><td>⋯</td><td>53</td><td>170</td><td>11</td><td>0</td><td>137</td><td>134</td><td>137</td><td> 13</td><td>1</td><td>1</td></tr>\n",
       "\t<tr><td>132</td><td>0.006514658</td><td>0</td><td>0.008143322</td><td>0.000000000</td><td>0</td><td>0.000000000</td><td>16</td><td>2.4</td><td> 0</td><td>⋯</td><td>53</td><td>170</td><td> 9</td><td>0</td><td>137</td><td>136</td><td>138</td><td> 11</td><td>1</td><td>1</td></tr>\n",
       "\t<tr><td>134</td><td>0.001049318</td><td>0</td><td>0.010493179</td><td>0.009443861</td><td>0</td><td>0.002098636</td><td>26</td><td>5.9</td><td> 0</td><td>⋯</td><td>50</td><td>200</td><td> 5</td><td>3</td><td> 76</td><td>107</td><td>107</td><td>170</td><td>0</td><td>3</td></tr>\n",
       "</tbody>\n",
       "</table>\n"
      ],
      "text/latex": [
       "A tibble: 6 × 22\n",
       "\\begin{tabular}{lllllllllllllllllllll}\n",
       " LB & AC & FM & UC & DL & DS & DP & ASTV & MSTV & ALTV & ⋯ & Min & Max & Nmax & Nzeros & Mode & Mean & Median & Variance & Tendency & NSP\\\\\n",
       " <dbl> & <dbl> & <dbl> & <dbl> & <dbl> & <dbl> & <dbl> & <dbl> & <dbl> & <dbl> & ⋯ & <dbl> & <dbl> & <dbl> & <dbl> & <dbl> & <dbl> & <dbl> & <dbl> & <dbl> & <dbl>\\\\\n",
       "\\hline\n",
       "\t 120 & 0.000000000 & 0 & 0.000000000 & 0.000000000 & 0 & 0.000000000 & 73 & 0.5 & 43 & ⋯ & 62 & 126 &  2 & 0 & 120 & 137 & 121 &  73 & 1 & 2\\\\\n",
       "\t 132 & 0.006379585 & 0 & 0.006379585 & 0.003189793 & 0 & 0.000000000 & 17 & 2.1 &  0 & ⋯ & 68 & 198 &  6 & 1 & 141 & 136 & 140 &  12 & 0 & 1\\\\\n",
       "\t 133 & 0.003322259 & 0 & 0.008305648 & 0.003322259 & 0 & 0.000000000 & 16 & 2.1 &  0 & ⋯ & 68 & 198 &  5 & 1 & 141 & 135 & 138 &  13 & 0 & 1\\\\\n",
       "\t 134 & 0.002560819 & 0 & 0.007682458 & 0.002560819 & 0 & 0.000000000 & 16 & 2.4 &  0 & ⋯ & 53 & 170 & 11 & 0 & 137 & 134 & 137 &  13 & 1 & 1\\\\\n",
       "\t 132 & 0.006514658 & 0 & 0.008143322 & 0.000000000 & 0 & 0.000000000 & 16 & 2.4 &  0 & ⋯ & 53 & 170 &  9 & 0 & 137 & 136 & 138 &  11 & 1 & 1\\\\\n",
       "\t 134 & 0.001049318 & 0 & 0.010493179 & 0.009443861 & 0 & 0.002098636 & 26 & 5.9 &  0 & ⋯ & 50 & 200 &  5 & 3 &  76 & 107 & 107 & 170 & 0 & 3\\\\\n",
       "\\end{tabular}\n"
      ],
      "text/markdown": [
       "\n",
       "A tibble: 6 × 22\n",
       "\n",
       "| LB &lt;dbl&gt; | AC &lt;dbl&gt; | FM &lt;dbl&gt; | UC &lt;dbl&gt; | DL &lt;dbl&gt; | DS &lt;dbl&gt; | DP &lt;dbl&gt; | ASTV &lt;dbl&gt; | MSTV &lt;dbl&gt; | ALTV &lt;dbl&gt; | ⋯ ⋯ | Min &lt;dbl&gt; | Max &lt;dbl&gt; | Nmax &lt;dbl&gt; | Nzeros &lt;dbl&gt; | Mode &lt;dbl&gt; | Mean &lt;dbl&gt; | Median &lt;dbl&gt; | Variance &lt;dbl&gt; | Tendency &lt;dbl&gt; | NSP &lt;dbl&gt; |\n",
       "|---|---|---|---|---|---|---|---|---|---|---|---|---|---|---|---|---|---|---|---|---|\n",
       "| 120 | 0.000000000 | 0 | 0.000000000 | 0.000000000 | 0 | 0.000000000 | 73 | 0.5 | 43 | ⋯ | 62 | 126 |  2 | 0 | 120 | 137 | 121 |  73 | 1 | 2 |\n",
       "| 132 | 0.006379585 | 0 | 0.006379585 | 0.003189793 | 0 | 0.000000000 | 17 | 2.1 |  0 | ⋯ | 68 | 198 |  6 | 1 | 141 | 136 | 140 |  12 | 0 | 1 |\n",
       "| 133 | 0.003322259 | 0 | 0.008305648 | 0.003322259 | 0 | 0.000000000 | 16 | 2.1 |  0 | ⋯ | 68 | 198 |  5 | 1 | 141 | 135 | 138 |  13 | 0 | 1 |\n",
       "| 134 | 0.002560819 | 0 | 0.007682458 | 0.002560819 | 0 | 0.000000000 | 16 | 2.4 |  0 | ⋯ | 53 | 170 | 11 | 0 | 137 | 134 | 137 |  13 | 1 | 1 |\n",
       "| 132 | 0.006514658 | 0 | 0.008143322 | 0.000000000 | 0 | 0.000000000 | 16 | 2.4 |  0 | ⋯ | 53 | 170 |  9 | 0 | 137 | 136 | 138 |  11 | 1 | 1 |\n",
       "| 134 | 0.001049318 | 0 | 0.010493179 | 0.009443861 | 0 | 0.002098636 | 26 | 5.9 |  0 | ⋯ | 50 | 200 |  5 | 3 |  76 | 107 | 107 | 170 | 0 | 3 |\n",
       "\n"
      ],
      "text/plain": [
       "  LB  AC          FM UC          DL          DS DP          ASTV MSTV ALTV ⋯\n",
       "1 120 0.000000000 0  0.000000000 0.000000000 0  0.000000000 73   0.5  43   ⋯\n",
       "2 132 0.006379585 0  0.006379585 0.003189793 0  0.000000000 17   2.1   0   ⋯\n",
       "3 133 0.003322259 0  0.008305648 0.003322259 0  0.000000000 16   2.1   0   ⋯\n",
       "4 134 0.002560819 0  0.007682458 0.002560819 0  0.000000000 16   2.4   0   ⋯\n",
       "5 132 0.006514658 0  0.008143322 0.000000000 0  0.000000000 16   2.4   0   ⋯\n",
       "6 134 0.001049318 0  0.010493179 0.009443861 0  0.002098636 26   5.9   0   ⋯\n",
       "  Min Max Nmax Nzeros Mode Mean Median Variance Tendency NSP\n",
       "1 62  126  2   0      120  137  121     73      1        2  \n",
       "2 68  198  6   1      141  136  140     12      0        1  \n",
       "3 68  198  5   1      141  135  138     13      0        1  \n",
       "4 53  170 11   0      137  134  137     13      1        1  \n",
       "5 53  170  9   0      137  136  138     11      1        1  \n",
       "6 50  200  5   3       76  107  107    170      0        3  "
      ]
     },
     "metadata": {},
     "output_type": "display_data"
    }
   ],
   "source": [
    "# Data\n",
    "library (readr)\n",
    "\n",
    "urlfile=\"https://raw.githubusercontent.com/bkrai/R-files-from-YouTube/main/Cardiotocographic.csv\"\n",
    "mydata<-read_csv(url(urlfile))\n",
    "head(mydata)\n",
    "\n",
    "# except NSP all variables are independent variables\n",
    "# NSP is a dependent variable\n",
    "## NSP = 1 --> Normal patient\n",
    "## NSP = 2 --> Suspect patient\n",
    "## NSP = 3 --> Pathologic patient\n",
    "## N - Normal \n",
    "## S - Suspect\n",
    "## P - Pathologic"
   ]
  },
  {
   "cell_type": "code",
   "execution_count": 2,
   "id": "d2233a31",
   "metadata": {
    "execution": {
     "iopub.execute_input": "2021-11-23T11:18:50.136894Z",
     "iopub.status.busy": "2021-11-23T11:18:50.066118Z",
     "iopub.status.idle": "2021-11-23T11:18:50.152635Z",
     "shell.execute_reply": "2021-11-23T11:18:50.151395Z"
    },
    "papermill": {
     "duration": 0.163097,
     "end_time": "2021-11-23T11:18:50.152784",
     "exception": false,
     "start_time": "2021-11-23T11:18:49.989687",
     "status": "completed"
    },
    "tags": []
   },
   "outputs": [],
   "source": [
    "# NSP is integer. We first need to convert from integer to factor\n",
    "mydata$NSP <- as.factor(mydata$NSP)"
   ]
  },
  {
   "cell_type": "markdown",
   "id": "cfe53aee",
   "metadata": {
    "papermill": {
     "duration": 0.070396,
     "end_time": "2021-11-23T11:18:50.294061",
     "exception": false,
     "start_time": "2021-11-23T11:18:50.223665",
     "status": "completed"
    },
    "tags": []
   },
   "source": [
    "<a id = \"3\"></a><br>\n",
    "# 1.2. Data Partition\n",
    "* CTG data\n",
    "* Categorical response variables at three levels\n",
    "* Data partition\n",
    "* Multinomial Logistic Regression Model"
   ]
  },
  {
   "cell_type": "code",
   "execution_count": 3,
   "id": "9366e241",
   "metadata": {
    "execution": {
     "iopub.execute_input": "2021-11-23T11:18:50.440961Z",
     "iopub.status.busy": "2021-11-23T11:18:50.439369Z",
     "iopub.status.idle": "2021-11-23T11:18:50.461099Z",
     "shell.execute_reply": "2021-11-23T11:18:50.459882Z"
    },
    "papermill": {
     "duration": 0.09629,
     "end_time": "2021-11-23T11:18:50.461245",
     "exception": false,
     "start_time": "2021-11-23T11:18:50.364955",
     "status": "completed"
    },
    "tags": []
   },
   "outputs": [],
   "source": [
    "# Data Partition\n",
    "set.seed(222)\n",
    "ind <- sample(2, nrow(mydata),\n",
    "              replace = TRUE, # sampling for replacing\n",
    "              prob = c(0.6, 0.4)) # we use probability for splitting\n",
    "\n",
    "\n",
    "training <- mydata[ind == 1,  ]  # first data set we call training, 1 is first 60% of data\n",
    "testing <- mydata[ind == 2, ] \n",
    "# training data has 1277 observations\n",
    "# testing data has 849 observations"
   ]
  },
  {
   "cell_type": "markdown",
   "id": "f14cac44",
   "metadata": {
    "papermill": {
     "duration": 0.071011,
     "end_time": "2021-11-23T11:18:50.602523",
     "exception": false,
     "start_time": "2021-11-23T11:18:50.531512",
     "status": "completed"
    },
    "tags": []
   },
   "source": [
    "<a id = \"4\"></a><br>\n",
    "## 1.3. Multinominal Logistic Regression"
   ]
  },
  {
   "cell_type": "code",
   "execution_count": 4,
   "id": "a23911d7",
   "metadata": {
    "execution": {
     "iopub.execute_input": "2021-11-23T11:18:50.750142Z",
     "iopub.status.busy": "2021-11-23T11:18:50.748467Z",
     "iopub.status.idle": "2021-11-23T11:18:51.102871Z",
     "shell.execute_reply": "2021-11-23T11:18:51.100336Z"
    },
    "papermill": {
     "duration": 0.429794,
     "end_time": "2021-11-23T11:18:51.103096",
     "exception": false,
     "start_time": "2021-11-23T11:18:50.673302",
     "status": "completed"
    },
    "tags": []
   },
   "outputs": [
    {
     "name": "stdout",
     "output_type": "stream",
     "text": [
      "# weights:  69 (44 variable)\n",
      "initial  value 1402.927893 \n",
      "iter  10 value 539.773236\n",
      "iter  20 value 505.865352\n",
      "iter  30 value 392.508097\n",
      "iter  40 value 351.485743\n",
      "iter  50 value 346.813302\n",
      "iter  60 value 316.596959\n",
      "iter  70 value 285.825391\n",
      "iter  80 value 284.436641\n",
      "iter  90 value 268.916989\n",
      "iter 100 value 268.916331\n",
      "final  value 268.916331 \n",
      "stopped after 100 iterations\n"
     ]
    },
    {
     "data": {
      "text/plain": [
       "Call:\n",
       "multinom(formula = NSP ~ ., data = training)\n",
       "\n",
       "Coefficients:\n",
       "  (Intercept)         LB          AC       FM        UC        DL          DS\n",
       "2    -18.6761 -0.1143064 -1109.42102 16.34689 -300.4571 -73.95458 -0.73744258\n",
       "3    -21.0584  0.4499481   -50.02172 19.36992 -384.2860 -76.86968 -0.04088559\n",
       "        DP       ASTV        MSTV       ALTV         MLTV       Width\n",
       "2 82.13684 0.08339589  0.01668685 0.02918356 -0.005775719 0.005367618\n",
       "3 77.83336 0.20193024 -1.24041820 0.07712771  0.056655347 0.010265594\n",
       "         Min        Max        Nmax      Nzeros        Mode       Mean\n",
       "2 0.01840666 0.02377429  0.08924204 -0.21841801 -0.07898500  0.2157336\n",
       "3 0.01462147 0.02488706 -0.13374794  0.09458505  0.05601353 -0.1114634\n",
       "       Median   Variance  Tendency\n",
       "2  0.02766913 0.05616717 0.2946502\n",
       "3 -0.40033259 0.07035541 0.1481800\n",
       "\n",
       "Std. Errors:\n",
       "  (Intercept)         LB          AC        FM          UC          DL\n",
       "2   2.2222232 0.03794180 0.014531690 2.1560902 0.003467970 0.001159880\n",
       "3   0.5906376 0.05108731 0.001884473 0.4171358 0.007965918 0.001858988\n",
       "            DS           DP       ASTV      MSTV        ALTV       MLTV\n",
       "2 6.765490e-05 0.0040009679 0.01354419 0.3187348 0.007799684 0.03906499\n",
       "3 8.286699e-07 0.0006774629 0.02377892 0.4984112 0.013175634 0.08673451\n",
       "        Width         Min        Max       Nmax    Nzeros       Mode       Mean\n",
       "2 0.005383572 0.009784577 0.01266460 0.06772952 0.1796966 0.03121399 0.06303034\n",
       "3 0.007636152 0.013571845 0.01375938 0.13957712 0.4517603 0.04587593 0.04871025\n",
       "      Median    Variance  Tendency\n",
       "2 0.08096432 0.008569025 0.3422200\n",
       "3 0.07513612 0.012196568 0.5204718\n",
       "\n",
       "Residual Deviance: 537.8327 \n",
       "AIC: 621.8327 "
      ]
     },
     "metadata": {},
     "output_type": "display_data"
    }
   ],
   "source": [
    "# Multinominal Logistic Regression\n",
    "library(nnet)\n",
    "training$NSP <- relevel(training$NSP, ref = \"1\") # as as reference we put 1 for normal patient\n",
    "mymodel <- multinom(NSP~., data = training)    # it means all other variables, remember NSP is a dependent variable, apart from NSP we have 21 variables\n",
    "# this is based on training data model\n",
    "summary(mymodel)"
   ]
  },
  {
   "cell_type": "markdown",
   "id": "d41f080f",
   "metadata": {
    "papermill": {
     "duration": 0.075108,
     "end_time": "2021-11-23T11:18:51.299833",
     "exception": false,
     "start_time": "2021-11-23T11:18:51.224725",
     "status": "completed"
    },
    "tags": []
   },
   "source": [
    "<a id = \"5\"></a><br>\n",
    "# 2. Model and Interpretation\n",
    "<a id = \"6\"></a><br>\n",
    "## 2.1. Two Tail Z-test p-value"
   ]
  },
  {
   "cell_type": "code",
   "execution_count": 5,
   "id": "e69eaad8",
   "metadata": {
    "execution": {
     "iopub.execute_input": "2021-11-23T11:18:51.456174Z",
     "iopub.status.busy": "2021-11-23T11:18:51.455549Z",
     "iopub.status.idle": "2021-11-23T11:18:51.884336Z",
     "shell.execute_reply": "2021-11-23T11:18:51.881912Z"
    },
    "papermill": {
     "duration": 0.509717,
     "end_time": "2021-11-23T11:18:51.884592",
     "exception": false,
     "start_time": "2021-11-23T11:18:51.374875",
     "status": "completed"
    },
    "tags": []
   },
   "outputs": [
    {
     "data": {
      "text/html": [
       "<table class=\"dataframe\">\n",
       "<caption>A matrix: 2 × 22 of type dbl</caption>\n",
       "<thead>\n",
       "\t<tr><th></th><th scope=col>(Intercept)</th><th scope=col>LB</th><th scope=col>AC</th><th scope=col>FM</th><th scope=col>UC</th><th scope=col>DL</th><th scope=col>DS</th><th scope=col>DP</th><th scope=col>ASTV</th><th scope=col>MSTV</th><th scope=col>⋯</th><th scope=col>Width</th><th scope=col>Min</th><th scope=col>Max</th><th scope=col>Nmax</th><th scope=col>Nzeros</th><th scope=col>Mode</th><th scope=col>Mean</th><th scope=col>Median</th><th scope=col>Variance</th><th scope=col>Tendency</th></tr>\n",
       "</thead>\n",
       "<tbody>\n",
       "\t<tr><th scope=row>2</th><td>1</td><td>1.001033</td><td>1</td><td>1</td><td>1</td><td>1</td><td>1</td><td>1</td><td>1</td><td>1.368149</td><td>⋯</td><td>1.126625</td><td>1.023911</td><td>1.024127</td><td>1.074744</td><td>1.089249</td><td>1.004545</td><td>1.000247</td><td>1.285837</td><td>1</td><td>1.154310</td></tr>\n",
       "\t<tr><th scope=row>3</th><td>1</td><td>1.000000</td><td>1</td><td>1</td><td>1</td><td>1</td><td>1</td><td>1</td><td>1</td><td>1.005114</td><td>⋯</td><td>1.071251</td><td>1.111865</td><td>1.028117</td><td>1.134181</td><td>1.323380</td><td>1.088421</td><td>1.008825</td><td>1.000000</td><td>1</td><td>1.301936</td></tr>\n",
       "</tbody>\n",
       "</table>\n"
      ],
      "text/latex": [
       "A matrix: 2 × 22 of type dbl\n",
       "\\begin{tabular}{r|lllllllllllllllllllll}\n",
       "  & (Intercept) & LB & AC & FM & UC & DL & DS & DP & ASTV & MSTV & ⋯ & Width & Min & Max & Nmax & Nzeros & Mode & Mean & Median & Variance & Tendency\\\\\n",
       "\\hline\n",
       "\t2 & 1 & 1.001033 & 1 & 1 & 1 & 1 & 1 & 1 & 1 & 1.368149 & ⋯ & 1.126625 & 1.023911 & 1.024127 & 1.074744 & 1.089249 & 1.004545 & 1.000247 & 1.285837 & 1 & 1.154310\\\\\n",
       "\t3 & 1 & 1.000000 & 1 & 1 & 1 & 1 & 1 & 1 & 1 & 1.005114 & ⋯ & 1.071251 & 1.111865 & 1.028117 & 1.134181 & 1.323380 & 1.088421 & 1.008825 & 1.000000 & 1 & 1.301936\\\\\n",
       "\\end{tabular}\n"
      ],
      "text/markdown": [
       "\n",
       "A matrix: 2 × 22 of type dbl\n",
       "\n",
       "| <!--/--> | (Intercept) | LB | AC | FM | UC | DL | DS | DP | ASTV | MSTV | ⋯ | Width | Min | Max | Nmax | Nzeros | Mode | Mean | Median | Variance | Tendency |\n",
       "|---|---|---|---|---|---|---|---|---|---|---|---|---|---|---|---|---|---|---|---|---|---|\n",
       "| 2 | 1 | 1.001033 | 1 | 1 | 1 | 1 | 1 | 1 | 1 | 1.368149 | ⋯ | 1.126625 | 1.023911 | 1.024127 | 1.074744 | 1.089249 | 1.004545 | 1.000247 | 1.285837 | 1 | 1.154310 |\n",
       "| 3 | 1 | 1.000000 | 1 | 1 | 1 | 1 | 1 | 1 | 1 | 1.005114 | ⋯ | 1.071251 | 1.111865 | 1.028117 | 1.134181 | 1.323380 | 1.088421 | 1.008825 | 1.000000 | 1 | 1.301936 |\n",
       "\n"
      ],
      "text/plain": [
       "  (Intercept) LB       AC FM UC DL DS DP ASTV MSTV     ⋯ Width    Min     \n",
       "2 1           1.001033 1  1  1  1  1  1  1    1.368149 ⋯ 1.126625 1.023911\n",
       "3 1           1.000000 1  1  1  1  1  1  1    1.005114 ⋯ 1.071251 1.111865\n",
       "  Max      Nmax     Nzeros   Mode     Mean     Median   Variance Tendency\n",
       "2 1.024127 1.074744 1.089249 1.004545 1.000247 1.285837 1        1.154310\n",
       "3 1.028117 1.134181 1.323380 1.088421 1.008825 1.000000 1        1.301936"
      ]
     },
     "metadata": {},
     "output_type": "display_data"
    }
   ],
   "source": [
    "# Finalizing model\n",
    "## Two Tail Z-test p-value\n",
    "z <- summary(mymodel)$coefficients/summary(mymodel)$standard.errors\n",
    "p <- pnorm(1 - pnorm(abs(z), 0, 1)) * 2  # we add 2 due two tail z-test\n",
    "p"
   ]
  },
  {
   "cell_type": "markdown",
   "id": "a90a49eb",
   "metadata": {
    "papermill": {
     "duration": 0.078913,
     "end_time": "2021-11-23T11:18:52.078593",
     "exception": false,
     "start_time": "2021-11-23T11:18:51.999680",
     "status": "completed"
    },
    "tags": []
   },
   "source": [
    "<a id = \"7\"></a><br>\n",
    "## 2.2. Second Model"
   ]
  },
  {
   "cell_type": "code",
   "execution_count": 6,
   "id": "0cb77fe6",
   "metadata": {
    "execution": {
     "iopub.execute_input": "2021-11-23T11:18:52.240931Z",
     "iopub.status.busy": "2021-11-23T11:18:52.239403Z",
     "iopub.status.idle": "2021-11-23T11:18:52.548274Z",
     "shell.execute_reply": "2021-11-23T11:18:52.547143Z"
    },
    "papermill": {
     "duration": 0.39186,
     "end_time": "2021-11-23T11:18:52.548440",
     "exception": false,
     "start_time": "2021-11-23T11:18:52.156580",
     "status": "completed"
    },
    "tags": []
   },
   "outputs": [
    {
     "name": "stdout",
     "output_type": "stream",
     "text": [
      "# weights:  48 (30 variable)\n",
      "initial  value 1402.927893 \n",
      "iter  10 value 524.667208\n",
      "iter  20 value 396.280355\n",
      "iter  30 value 363.851254\n",
      "iter  40 value 355.488322\n",
      "iter  50 value 313.735159\n",
      "iter  60 value 290.981697\n",
      "iter  70 value 290.876039\n",
      "iter  80 value 290.786285\n",
      "iter  90 value 282.315552\n",
      "iter 100 value 279.633852\n",
      "final  value 279.633852 \n",
      "stopped after 100 iterations\n"
     ]
    },
    {
     "data": {
      "text/html": [
       "<table class=\"dataframe\">\n",
       "<caption>A matrix: 2 × 15 of type dbl</caption>\n",
       "<thead>\n",
       "\t<tr><th></th><th scope=col>(Intercept)</th><th scope=col>LB</th><th scope=col>AC</th><th scope=col>FM</th><th scope=col>UC</th><th scope=col>DL</th><th scope=col>DS</th><th scope=col>DP</th><th scope=col>ASTV</th><th scope=col>MSTV</th><th scope=col>ALTV</th><th scope=col>Mode</th><th scope=col>Mean</th><th scope=col>Median</th><th scope=col>Variance</th></tr>\n",
       "</thead>\n",
       "<tbody>\n",
       "\t<tr><th scope=row>2</th><td>1</td><td>1.009405</td><td>1</td><td>1</td><td>1</td><td>1</td><td>1</td><td>1</td><td>1</td><td>1.347954</td><td>1.000007</td><td>1.003839</td><td>1.001802</td><td>1.091561</td><td>1</td></tr>\n",
       "\t<tr><th scope=row>3</th><td>1</td><td>1.000000</td><td>1</td><td>1</td><td>1</td><td>1</td><td>1</td><td>1</td><td>1</td><td>1.011089</td><td>1.000000</td><td>1.141510</td><td>1.018859</td><td>1.000002</td><td>1</td></tr>\n",
       "</tbody>\n",
       "</table>\n"
      ],
      "text/latex": [
       "A matrix: 2 × 15 of type dbl\n",
       "\\begin{tabular}{r|lllllllllllllll}\n",
       "  & (Intercept) & LB & AC & FM & UC & DL & DS & DP & ASTV & MSTV & ALTV & Mode & Mean & Median & Variance\\\\\n",
       "\\hline\n",
       "\t2 & 1 & 1.009405 & 1 & 1 & 1 & 1 & 1 & 1 & 1 & 1.347954 & 1.000007 & 1.003839 & 1.001802 & 1.091561 & 1\\\\\n",
       "\t3 & 1 & 1.000000 & 1 & 1 & 1 & 1 & 1 & 1 & 1 & 1.011089 & 1.000000 & 1.141510 & 1.018859 & 1.000002 & 1\\\\\n",
       "\\end{tabular}\n"
      ],
      "text/markdown": [
       "\n",
       "A matrix: 2 × 15 of type dbl\n",
       "\n",
       "| <!--/--> | (Intercept) | LB | AC | FM | UC | DL | DS | DP | ASTV | MSTV | ALTV | Mode | Mean | Median | Variance |\n",
       "|---|---|---|---|---|---|---|---|---|---|---|---|---|---|---|---|\n",
       "| 2 | 1 | 1.009405 | 1 | 1 | 1 | 1 | 1 | 1 | 1 | 1.347954 | 1.000007 | 1.003839 | 1.001802 | 1.091561 | 1 |\n",
       "| 3 | 1 | 1.000000 | 1 | 1 | 1 | 1 | 1 | 1 | 1 | 1.011089 | 1.000000 | 1.141510 | 1.018859 | 1.000002 | 1 |\n",
       "\n"
      ],
      "text/plain": [
       "  (Intercept) LB       AC FM UC DL DS DP ASTV MSTV     ALTV     Mode    \n",
       "2 1           1.009405 1  1  1  1  1  1  1    1.347954 1.000007 1.003839\n",
       "3 1           1.000000 1  1  1  1  1  1  1    1.011089 1.000000 1.141510\n",
       "  Mean     Median   Variance\n",
       "2 1.001802 1.091561 1       \n",
       "3 1.018859 1.000002 1       "
      ]
     },
     "metadata": {},
     "output_type": "display_data"
    }
   ],
   "source": [
    "# SECOND MODEL\n",
    "# we will not use the value more than 0.05 \n",
    "# let's adjust model again\n",
    "mymodel <- multinom(NSP~. -MLTV -Width - Min - Max - Nmax -Nzeros - Tendency,\n",
    "                    data = training)\n",
    "\n",
    "\n",
    "z <- summary(mymodel)$coefficients/summary(mymodel)$standard.errors\n",
    "p <- pnorm(1 - pnorm(abs(z), 0, 1)) * 2  # we add 2 due two tail z-test\n",
    "p"
   ]
  },
  {
   "cell_type": "code",
   "execution_count": 7,
   "id": "2ed33249",
   "metadata": {
    "execution": {
     "iopub.execute_input": "2021-11-23T11:18:52.719711Z",
     "iopub.status.busy": "2021-11-23T11:18:52.717716Z",
     "iopub.status.idle": "2021-11-23T11:18:52.730720Z",
     "shell.execute_reply": "2021-11-23T11:18:52.729184Z"
    },
    "papermill": {
     "duration": 0.100079,
     "end_time": "2021-11-23T11:18:52.730868",
     "exception": false,
     "start_time": "2021-11-23T11:18:52.630789",
     "status": "completed"
    },
    "tags": []
   },
   "outputs": [],
   "source": [
    "# Interpretation\n",
    "# Eqauation\n",
    "# NSP = 2  patient is suspicious, NSP = 1 patient is normal, this log-odds\n",
    "# we don't have y and nsp\n",
    "# this is first equation\n",
    "# In[P(NSP=2) / (NSP=1)] = -16,62047 + (-0.07164 * LB) + (-748.85498 * AC) + ....+ (0.0464* Varience)\n",
    "\n",
    "\n",
    "# second equation\n",
    "# NSP = 3 patient is Pathologic \n",
    "# In[P(NSP=3)/P(NSP=1)] = -18.55244 + (0.40854 * LB) + (-29.62735 * AC) + .... + (0.6643 / Varience)"
   ]
  },
  {
   "cell_type": "markdown",
   "id": "96f134ad",
   "metadata": {
    "papermill": {
     "duration": 0.082631,
     "end_time": "2021-11-23T11:18:52.897601",
     "exception": false,
     "start_time": "2021-11-23T11:18:52.814970",
     "status": "completed"
    },
    "tags": []
   },
   "source": [
    "<a id = \"8\"></a><br>\n",
    "# 3. Confusion Matrix & Misclassification Error \n",
    "<a id = \"9\"></a><br>\n",
    "## 3.1 Training Data"
   ]
  },
  {
   "cell_type": "code",
   "execution_count": 8,
   "id": "10a0121b",
   "metadata": {
    "execution": {
     "iopub.execute_input": "2021-11-23T11:18:53.071925Z",
     "iopub.status.busy": "2021-11-23T11:18:53.069920Z",
     "iopub.status.idle": "2021-11-23T11:18:53.115834Z",
     "shell.execute_reply": "2021-11-23T11:18:53.114389Z"
    },
    "papermill": {
     "duration": 0.135489,
     "end_time": "2021-11-23T11:18:53.115970",
     "exception": false,
     "start_time": "2021-11-23T11:18:52.980481",
     "status": "completed"
    },
    "tags": []
   },
   "outputs": [
    {
     "data": {
      "text/html": [
       "<style>\n",
       ".list-inline {list-style: none; margin:0; padding: 0}\n",
       ".list-inline>li {display: inline-block}\n",
       ".list-inline>li:not(:last-child)::after {content: \"\\00b7\"; padding: 0 .5ex}\n",
       "</style>\n",
       "<ol class=list-inline><li>1</li><li>1</li><li>1</li><li>3</li><li>3</li><li>1</li></ol>\n",
       "\n",
       "<details>\n",
       "\t<summary style=display:list-item;cursor:pointer>\n",
       "\t\t<strong>Levels</strong>:\n",
       "\t</summary>\n",
       "\t<style>\n",
       "\t.list-inline {list-style: none; margin:0; padding: 0}\n",
       "\t.list-inline>li {display: inline-block}\n",
       "\t.list-inline>li:not(:last-child)::after {content: \"\\00b7\"; padding: 0 .5ex}\n",
       "\t</style>\n",
       "\t<ol class=list-inline><li>'1'</li><li>'2'</li><li>'3'</li></ol>\n",
       "</details>"
      ],
      "text/latex": [
       "\\begin{enumerate*}\n",
       "\\item 1\n",
       "\\item 1\n",
       "\\item 1\n",
       "\\item 3\n",
       "\\item 3\n",
       "\\item 1\n",
       "\\end{enumerate*}\n",
       "\n",
       "\\emph{Levels}: \\begin{enumerate*}\n",
       "\\item '1'\n",
       "\\item '2'\n",
       "\\item '3'\n",
       "\\end{enumerate*}\n"
      ],
      "text/markdown": [
       "1. 1\n",
       "2. 1\n",
       "3. 1\n",
       "4. 3\n",
       "5. 3\n",
       "6. 1\n",
       "\n",
       "\n",
       "\n",
       "**Levels**: 1. '1'\n",
       "2. '2'\n",
       "3. '3'\n",
       "\n",
       "\n"
      ],
      "text/plain": [
       "[1] 1 1 1 3 3 1\n",
       "Levels: 1 2 3"
      ]
     },
     "metadata": {},
     "output_type": "display_data"
    }
   ],
   "source": [
    "# Confusion Matrix & Misclassification Error - Training Data\n",
    "p <- predict(mymodel, training)\n",
    "head(p)"
   ]
  },
  {
   "cell_type": "code",
   "execution_count": 9,
   "id": "9d8791e1",
   "metadata": {
    "execution": {
     "iopub.execute_input": "2021-11-23T11:18:53.293739Z",
     "iopub.status.busy": "2021-11-23T11:18:53.292107Z",
     "iopub.status.idle": "2021-11-23T11:18:53.310802Z",
     "shell.execute_reply": "2021-11-23T11:18:53.309191Z"
    },
    "papermill": {
     "duration": 0.108183,
     "end_time": "2021-11-23T11:18:53.310942",
     "exception": false,
     "start_time": "2021-11-23T11:18:53.202759",
     "status": "completed"
    },
    "tags": []
   },
   "outputs": [
    {
     "data": {
      "text/html": [
       "<style>\n",
       ".list-inline {list-style: none; margin:0; padding: 0}\n",
       ".list-inline>li {display: inline-block}\n",
       ".list-inline>li:not(:last-child)::after {content: \"\\00b7\"; padding: 0 .5ex}\n",
       "</style>\n",
       "<ol class=list-inline><li>1</li><li>1</li><li>1</li><li>3</li><li>3</li><li>3</li></ol>\n",
       "\n",
       "<details>\n",
       "\t<summary style=display:list-item;cursor:pointer>\n",
       "\t\t<strong>Levels</strong>:\n",
       "\t</summary>\n",
       "\t<style>\n",
       "\t.list-inline {list-style: none; margin:0; padding: 0}\n",
       "\t.list-inline>li {display: inline-block}\n",
       "\t.list-inline>li:not(:last-child)::after {content: \"\\00b7\"; padding: 0 .5ex}\n",
       "\t</style>\n",
       "\t<ol class=list-inline><li>'1'</li><li>'2'</li><li>'3'</li></ol>\n",
       "</details>"
      ],
      "text/latex": [
       "\\begin{enumerate*}\n",
       "\\item 1\n",
       "\\item 1\n",
       "\\item 1\n",
       "\\item 3\n",
       "\\item 3\n",
       "\\item 3\n",
       "\\end{enumerate*}\n",
       "\n",
       "\\emph{Levels}: \\begin{enumerate*}\n",
       "\\item '1'\n",
       "\\item '2'\n",
       "\\item '3'\n",
       "\\end{enumerate*}\n"
      ],
      "text/markdown": [
       "1. 1\n",
       "2. 1\n",
       "3. 1\n",
       "4. 3\n",
       "5. 3\n",
       "6. 3\n",
       "\n",
       "\n",
       "\n",
       "**Levels**: 1. '1'\n",
       "2. '2'\n",
       "3. '3'\n",
       "\n",
       "\n"
      ],
      "text/plain": [
       "[1] 1 1 1 3 3 3\n",
       "Levels: 1 2 3"
      ]
     },
     "metadata": {},
     "output_type": "display_data"
    }
   ],
   "source": [
    "head(training$NSP)\n",
    "# when we compare the outputs, out of six predictions we see that 5 are correct, last one is wrong"
   ]
  },
  {
   "cell_type": "code",
   "execution_count": 10,
   "id": "72289f7e",
   "metadata": {
    "execution": {
     "iopub.execute_input": "2021-11-23T11:18:53.492587Z",
     "iopub.status.busy": "2021-11-23T11:18:53.490840Z",
     "iopub.status.idle": "2021-11-23T11:18:53.511082Z",
     "shell.execute_reply": "2021-11-23T11:18:53.509709Z"
    },
    "papermill": {
     "duration": 0.112403,
     "end_time": "2021-11-23T11:18:53.511220",
     "exception": false,
     "start_time": "2021-11-23T11:18:53.398817",
     "status": "completed"
    },
    "tags": []
   },
   "outputs": [
    {
     "data": {
      "text/plain": [
       "   \n",
       "p     1   2   3\n",
       "  1 965  57   7\n",
       "  2  33 100  12\n",
       "  3   6  12  85"
      ]
     },
     "metadata": {},
     "output_type": "display_data"
    }
   ],
   "source": [
    "# top numbers of the table is actual numbers, prediction is on the left side\n",
    "tab <- table(p, training$NSP)\n",
    "tab"
   ]
  },
  {
   "cell_type": "code",
   "execution_count": 11,
   "id": "f5b5b9bf",
   "metadata": {
    "execution": {
     "iopub.execute_input": "2021-11-23T11:18:53.697142Z",
     "iopub.status.busy": "2021-11-23T11:18:53.695513Z",
     "iopub.status.idle": "2021-11-23T11:18:53.713792Z",
     "shell.execute_reply": "2021-11-23T11:18:53.712131Z"
    },
    "papermill": {
     "duration": 0.11281,
     "end_time": "2021-11-23T11:18:53.713933",
     "exception": false,
     "start_time": "2021-11-23T11:18:53.601123",
     "status": "completed"
    },
    "tags": []
   },
   "outputs": [
    {
     "data": {
      "text/html": [
       "0.900548159749413"
      ],
      "text/latex": [
       "0.900548159749413"
      ],
      "text/markdown": [
       "0.900548159749413"
      ],
      "text/plain": [
       "[1] 0.9005482"
      ]
     },
     "metadata": {},
     "output_type": "display_data"
    }
   ],
   "source": [
    "# accuracy\n",
    "sum(diag(tab)) / sum(tab)"
   ]
  },
  {
   "cell_type": "code",
   "execution_count": 12,
   "id": "b4152031",
   "metadata": {
    "execution": {
     "iopub.execute_input": "2021-11-23T11:18:53.904313Z",
     "iopub.status.busy": "2021-11-23T11:18:53.902675Z",
     "iopub.status.idle": "2021-11-23T11:18:53.920717Z",
     "shell.execute_reply": "2021-11-23T11:18:53.919218Z"
    },
    "papermill": {
     "duration": 0.114922,
     "end_time": "2021-11-23T11:18:53.920858",
     "exception": false,
     "start_time": "2021-11-23T11:18:53.805936",
     "status": "completed"
    },
    "tags": []
   },
   "outputs": [
    {
     "data": {
      "text/html": [
       "0.0994518402505873"
      ],
      "text/latex": [
       "0.0994518402505873"
      ],
      "text/markdown": [
       "0.0994518402505873"
      ],
      "text/plain": [
       "[1] 0.09945184"
      ]
     },
     "metadata": {},
     "output_type": "display_data"
    }
   ],
   "source": [
    "# misclassifications\n",
    "1 - sum(diag(tab)) / sum(tab)"
   ]
  },
  {
   "cell_type": "markdown",
   "id": "9faf6823",
   "metadata": {
    "papermill": {
     "duration": 0.095579,
     "end_time": "2021-11-23T11:18:54.110982",
     "exception": false,
     "start_time": "2021-11-23T11:18:54.015403",
     "status": "completed"
    },
    "tags": []
   },
   "source": [
    "<a id = \"10\"></a><br>\n",
    "## 3.2 Testing Data"
   ]
  },
  {
   "cell_type": "code",
   "execution_count": 13,
   "id": "e2326169",
   "metadata": {
    "execution": {
     "iopub.execute_input": "2021-11-23T11:18:54.305917Z",
     "iopub.status.busy": "2021-11-23T11:18:54.304351Z",
     "iopub.status.idle": "2021-11-23T11:18:54.343344Z",
     "shell.execute_reply": "2021-11-23T11:18:54.341860Z"
    },
    "papermill": {
     "duration": 0.138015,
     "end_time": "2021-11-23T11:18:54.343504",
     "exception": false,
     "start_time": "2021-11-23T11:18:54.205489",
     "status": "completed"
    },
    "tags": []
   },
   "outputs": [
    {
     "data": {
      "text/plain": [
       "   \n",
       "p1    1   2   3\n",
       "  1 619  36   4\n",
       "  2  26  84  15\n",
       "  3   6   6  53"
      ]
     },
     "metadata": {},
     "output_type": "display_data"
    }
   ],
   "source": [
    "# Confusion Matrix & Misclassification Error - testing Data\n",
    "p1 <- predict(mymodel, testing)\n",
    "tab1 <- table(p1, testing$NSP)\n",
    "tab1"
   ]
  },
  {
   "cell_type": "code",
   "execution_count": 14,
   "id": "a7890e22",
   "metadata": {
    "execution": {
     "iopub.execute_input": "2021-11-23T11:18:54.542650Z",
     "iopub.status.busy": "2021-11-23T11:18:54.541026Z",
     "iopub.status.idle": "2021-11-23T11:18:54.558964Z",
     "shell.execute_reply": "2021-11-23T11:18:54.557579Z"
    },
    "papermill": {
     "duration": 0.118598,
     "end_time": "2021-11-23T11:18:54.559117",
     "exception": false,
     "start_time": "2021-11-23T11:18:54.440519",
     "status": "completed"
    },
    "tags": []
   },
   "outputs": [
    {
     "data": {
      "text/html": [
       "0.109540636042403"
      ],
      "text/latex": [
       "0.109540636042403"
      ],
      "text/markdown": [
       "0.109540636042403"
      ],
      "text/plain": [
       "[1] 0.1095406"
      ]
     },
     "metadata": {},
     "output_type": "display_data"
    }
   ],
   "source": [
    "# missclassifications\n",
    "1 - sum(diag(tab1)) / sum(tab1)"
   ]
  },
  {
   "cell_type": "markdown",
   "id": "6655e934",
   "metadata": {
    "papermill": {
     "duration": 0.099319,
     "end_time": "2021-11-23T11:18:54.758620",
     "exception": false,
     "start_time": "2021-11-23T11:18:54.659301",
     "status": "completed"
    },
    "tags": []
   },
   "source": [
    "<a id = \"11\"></a><br>\n",
    "# 4. Prediction & Model Assessment"
   ]
  },
  {
   "cell_type": "code",
   "execution_count": 15,
   "id": "d2222cbe",
   "metadata": {
    "execution": {
     "iopub.execute_input": "2021-11-23T11:18:54.965127Z",
     "iopub.status.busy": "2021-11-23T11:18:54.963624Z",
     "iopub.status.idle": "2021-11-23T11:18:54.983164Z",
     "shell.execute_reply": "2021-11-23T11:18:54.981587Z"
    },
    "papermill": {
     "duration": 0.125521,
     "end_time": "2021-11-23T11:18:54.983311",
     "exception": false,
     "start_time": "2021-11-23T11:18:54.857790",
     "status": "completed"
    },
    "tags": []
   },
   "outputs": [
    {
     "data": {
      "text/plain": [
       "\n",
       "         1          2          3 \n",
       "0.78621770 0.13234143 0.08144088 "
      ]
     },
     "metadata": {},
     "output_type": "display_data"
    }
   ],
   "source": [
    "# Accuracy and Sensitivity - training data\n",
    "n <- table(training$NSP)\n",
    "# In training data set has 1004 patients are normal, 169 of them is suspucious, 104 Pathologic\n",
    "# let's see them as a ratio\n",
    "n / sum(n)"
   ]
  },
  {
   "cell_type": "code",
   "execution_count": 16,
   "id": "56003e2c",
   "metadata": {
    "execution": {
     "iopub.execute_input": "2021-11-23T11:18:55.191476Z",
     "iopub.status.busy": "2021-11-23T11:18:55.189956Z",
     "iopub.status.idle": "2021-11-23T11:18:55.211572Z",
     "shell.execute_reply": "2021-11-23T11:18:55.209938Z"
    },
    "papermill": {
     "duration": 0.126945,
     "end_time": "2021-11-23T11:18:55.211728",
     "exception": false,
     "start_time": "2021-11-23T11:18:55.084783",
     "status": "completed"
    },
    "tags": []
   },
   "outputs": [
    {
     "data": {
      "text/plain": [
       "   \n",
       "p             1           2           3\n",
       "  1 0.961155378 0.056772908 0.006972112\n",
       "  2 0.195266272 0.591715976 0.071005917\n",
       "  3 0.057692308 0.115384615 0.817307692"
      ]
     },
     "metadata": {},
     "output_type": "display_data"
    }
   ],
   "source": [
    "tab / colSums(tab)\n",
    "# this model 96 percent correct classification for 1, 59% correct for 2, 81% correct for 3\n",
    "# we made a good job 1 and 3 \n",
    "# 2 is not good as them as "
   ]
  },
  {
   "cell_type": "code",
   "execution_count": 17,
   "id": "949f9fe6",
   "metadata": {
    "execution": {
     "iopub.execute_input": "2021-11-23T11:18:55.424750Z",
     "iopub.status.busy": "2021-11-23T11:18:55.423791Z",
     "iopub.status.idle": "2021-11-23T11:18:55.442694Z",
     "shell.execute_reply": "2021-11-23T11:18:55.440902Z"
    },
    "papermill": {
     "duration": 0.127277,
     "end_time": "2021-11-23T11:18:55.442852",
     "exception": false,
     "start_time": "2021-11-23T11:18:55.315575",
     "status": "completed"
    },
    "tags": []
   },
   "outputs": [
    {
     "data": {
      "text/plain": [
       "   \n",
       "p1            1           2           3\n",
       "  1 0.950844854 0.055299539 0.006144393\n",
       "  2 0.206349206 0.666666667 0.119047619\n",
       "  3 0.083333333 0.083333333 0.736111111"
      ]
     },
     "metadata": {},
     "output_type": "display_data"
    }
   ],
   "source": [
    "tab1 / colSums(tab1)"
   ]
  },
  {
   "cell_type": "markdown",
   "id": "0d0b8d67",
   "metadata": {
    "papermill": {
     "duration": 0.110039,
     "end_time": "2021-11-23T11:18:55.677566",
     "exception": false,
     "start_time": "2021-11-23T11:18:55.567527",
     "status": "completed"
    },
    "tags": []
   },
   "source": [
    "<a id = \"12\"></a><br>\n",
    "# 5. References\n",
    "* https://www.youtube.com/watch?v=S2rZp4L_nXo&list=PL34t5iLfZddvv-L5iFFpd_P1jy_7ElWMG\n",
    "* https://www.youtube.com/watch?v=oxRy2DMrOF4&list=PL34t5iLfZddvv-L5iFFpd_P1jy_7ElWMG&index=2\n",
    "* https://www.youtube.com/watch?v=11VY8CmNVDQ&list=PL34t5iLfZddvv-L5iFFpd_P1jy_7ElWMG&index=3\n",
    "* https://www.youtube.com/watch?v=POyTaeneHJY&list=PL34t5iLfZddvv-L5iFFpd_P1jy_7ElWMG&index=4"
   ]
  }
 ],
 "metadata": {
  "kernelspec": {
   "display_name": "R",
   "language": "R",
   "name": "ir"
  },
  "language_info": {
   "codemirror_mode": "r",
   "file_extension": ".r",
   "mimetype": "text/x-r-source",
   "name": "R",
   "pygments_lexer": "r",
   "version": "4.0.5"
  },
  "papermill": {
   "default_parameters": {},
   "duration": 10.637184,
   "end_time": "2021-11-23T11:18:55.901318",
   "environment_variables": {},
   "exception": null,
   "input_path": "__notebook__.ipynb",
   "output_path": "__notebook__.ipynb",
   "parameters": {},
   "start_time": "2021-11-23T11:18:45.264134",
   "version": "2.3.3"
  }
 },
 "nbformat": 4,
 "nbformat_minor": 5
}
